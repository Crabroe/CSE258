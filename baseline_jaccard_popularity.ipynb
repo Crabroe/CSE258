{
 "cells": [
  {
   "cell_type": "code",
   "execution_count": 1,
   "metadata": {},
   "outputs": [],
   "source": [
    "import gzip\n",
    "from collections import defaultdict\n",
    "import math\n",
    "import scipy.optimize\n",
    "from sklearn import svm\n",
    "import numpy\n",
    "import string\n",
    "import random\n",
    "import string\n",
    "from sklearn import linear_model\n",
    "import pandas as pd\n",
    "import matplotlib.pyplot as plt\n",
    "import seaborn as sns\n",
    "import copy\n",
    "from sklearn.preprocessing import MinMaxScaler\n",
    "from implicit import bpr\n",
    "import csv\n",
    "# from surprise import SVD, Reader, Dataset\n",
    "# from surprise.model_selection import train_test_split"
   ]
  },
  {
   "cell_type": "code",
   "execution_count": 2,
   "metadata": {},
   "outputs": [],
   "source": [
    "def readCSV(path):\n",
    "    with open(path, mode='r', newline='', encoding='utf-8') as file:\n",
    "        csv_reader = csv.DictReader(file)\n",
    "        for row in csv_reader:\n",
    "            yield row\n"
   ]
  },
  {
   "cell_type": "markdown",
   "metadata": {},
   "source": [
    "# modcloth dataset visualization"
   ]
  },
  {
   "cell_type": "code",
   "execution_count": 3,
   "metadata": {},
   "outputs": [],
   "source": [
    "modcloth_test = []\n",
    "modcloth_train = []\n",
    "modcloth_valid = []\n",
    "for l in readCSV(\"./data/modcloth_final_data_processed_test.csv\"):\n",
    "    modcloth_test.append(l)\n",
    "for l in readCSV(\"./data/modcloth_final_data_processed_train.csv\"):\n",
    "    modcloth_train.append(l)\n",
    "for l in readCSV(\"./data/modcloth_final_data_processed_valid.csv\"):\n",
    "    modcloth_valid.append(l)"
   ]
  },
  {
   "cell_type": "code",
   "execution_count": 4,
   "metadata": {},
   "outputs": [
    {
     "data": {
      "text/plain": [
       "{'waist': '-0.045096139515121966',\n",
       " 'size': '1.61249466382741',\n",
       " 'quality': '-0.9563970724487967',\n",
       " 'hips': '1.2569653494085655',\n",
       " 'bra_size': '0.6523473985854076',\n",
       " 'height': '0.30634343084759313',\n",
       " 'shoe_size': '-0.06312455609563944',\n",
       " 'item_id': '41',\n",
       " 'category': '2',\n",
       " 'cup_size': '4',\n",
       " 'user_id': '24985',\n",
       " 'fit': '1'}"
      ]
     },
     "execution_count": 4,
     "metadata": {},
     "output_type": "execute_result"
    }
   ],
   "source": [
    "modcloth_test[1]"
   ]
  },
  {
   "cell_type": "code",
   "execution_count": 5,
   "metadata": {},
   "outputs": [],
   "source": [
    "modcloth_train_base = [(d['user_id'], d['item_id'], d['fit']) for d in modcloth_train]\n",
    "modcloth_test_base = [(d['user_id'], d['item_id'], d['fit']) for d in modcloth_test]\n",
    "modcloth_valid_base = [(d['user_id'], d['item_id'], d['fit']) for d in modcloth_valid]\n"
   ]
  },
  {
   "cell_type": "code",
   "execution_count": 6,
   "metadata": {},
   "outputs": [
    {
     "data": {
      "text/plain": [
       "('21754', '738', '1')"
      ]
     },
     "execution_count": 6,
     "metadata": {},
     "output_type": "execute_result"
    }
   ],
   "source": [
    "modcloth_train_base[0]\n",
    "# fit == 1; 0: small, 2: large"
   ]
  },
  {
   "cell_type": "markdown",
   "metadata": {},
   "source": [
    "## 1-similarity"
   ]
  },
  {
   "cell_type": "code",
   "execution_count": 7,
   "metadata": {},
   "outputs": [],
   "source": [
    "userItems = defaultdict(set) #user -> collection of item bought\n",
    "itemUsers = defaultdict(set) #item -> collection of users who bought the item"
   ]
  },
  {
   "cell_type": "code",
   "execution_count": 8,
   "metadata": {},
   "outputs": [],
   "source": [
    "for d in modcloth_train_base:\n",
    "    user, item = d[0], d[1]\n",
    "    userItems[user].add(item)\n",
    "    itemUsers[item].add(user)"
   ]
  },
  {
   "cell_type": "code",
   "execution_count": 9,
   "metadata": {},
   "outputs": [
    {
     "name": "stdout",
     "output_type": "stream",
     "text": [
      "738: {'22506', '43022', '14127', '10266', '16077', '24107', '14763', '8032', '33093', '23031', '43135', '19120', '1396', '10293', '5789', '45178', '46596', '5163', '3849', '26370', '42764', '45287', '30372', '17514', '38298', '11738', '36289', '32191', '32065', '28846', '31585', '25926', '43414', '44945', '17125', '13675', '25918', '2386', '26339', '15035', '18176', '12107', '27465', '18458', '8188', '16448', '23067', '34879', '12150', '33385', '9305', '25075', '37083', '15030', '20891', '44035', '23970', '27664', '20853', '15796', '13543', '18448', '15860', '41287', '36130', '15822', '40517', '4488', '31033', '34543', '10751', '6699', '34890', '39955', '32100', '10611', '16942', '3891', '45683', '13173', '13989', '10197', '20277', '16966', '18140', '462', '47453', '16620', '39290', '40912', '23221', '7385', '7597', '2609', '11976', '23972', '15356', '263', '30041', '43631', '1994', '6977', '19087', '3837', '33668', '18718', '20458', '36204', '16718', '16060', '29848', '33490', '20791', '45144', '25904', '25852', '23138', '1697', '17198', '30613', '34483', '323', '12330', '35313', '32835', '39383', '877', '44231', '32921', '20108', '9759', '5337', '24462', '2304', '738', '15328', '36401', '30740', '12618', '20243', '23200', '5749', '41935', '19299', '44610', '25743', '4845', '33231', '8682', '10030', '7489', '40392', '44613', '28113', '41745', '21989', '8421', '14770', '9105', '9019', '23157', '17620', '40451', '21323', '22333', '22145', '19210', '539', '34475', '372', '6063', '47144', '23296', '16067', '736', '20750', '6586', '42290', '15024', '14219', '33952', '25746', '22042', '31934', '17853', '14007', '13578', '27438', '8208', '32116', '30572', '551', '22859', '902', '28423', '10913', '11626', '35638', '11665', '37112', '41728', '19450', '9130', '22923', '2933', '1840', '38900', '41378', '32545', '27590', '42870', '6431', '31560', '4149', '47546', '45310', '9729', '3120', '4029', '34910', '21506', '47189', '16068', '30897', '16736', '12305', '33446', '12050', '27897', '3770', '32849', '8907', '14632', '15358', '36841', '31615', '6564', '42587', '6879', '38090', '12591', '9169', '25346', '3018', '13758', '47138', '26703', '7998', '2964', '12918', '16968', '42452', '12052', '22167', '3557', '21594', '25766', '10849', '20878', '17917', '25793', '7921', '46574', '6761', '17425', '5616', '6609', '4596', '7782', '31787', '3982', '17391', '31611', '9598', '1834', '22021', '37951', '39123', '32950', '4953', '39800', '6180', '37887', '17892', '44837', '26268', '15754', '26083', '40008', '19237', '44690', '34094', '25859', '15713', '73', '10219', '23975', '40564', '27464', '20991', '43479', '6168', '8166', '31789', '1568', '7142', '23897', '45752', '36501', '39510', '38422', '5405', '8836', '4321', '36641', '14348', '41396', '44332', '18656', '20558', '25205', '5069', '39909', '18094', '22428', '25424', '36101', '15586', '8749', '46285', '45052', '43132', '30508', '37473', '22623', '17203', '29372', '46838', '22764', '19730', '13229', '21931', '32932', '34993', '2519', '27768', '42091', '16468', '32374', '9864', '27580', '22441', '44987', '10410', '15874', '46818', '24893', '45297', '14294', '30585', '28982', '21367', '42698', '7055', '29565', '34168', '18535', '12503', '35823', '37662', '39853', '32399', '29409', '32960', '8380', '8012', '25620', '40330', '2646', '25860', '9350', '26785', '12304', '38286', '37304', '9407', '12380', '29112', '14738', '42343', '4581', '46648', '6857', '40635', '520', '30265', '35272', '13665', '19006', '47804', '30558', '2978', '23863', '35329', '35966', '46398', '6587', '25064', '26157', '16693', '9339', '29160', '21098', '26803', '10526', '33049', '5850', '25330', '20090', '22851', '19789', '37832', '33528', '24152', '6090', '17056', '13170', '2804', '9047', '37965', '6148', '18174', '38447', '40214', '1927', '36972', '13355', '21465', '38881', '4343', '22657', '36060', '28618', '44902', '46370', '10312', '42000', '20312', '13968', '30959', '36868', '23163', '24765', '24452', '45735', '5516', '38671', '6831', '23379', '36037', '41915', '38940', '21533', '42367', '33089', '15967', '40001', '47799', '36228', '39486', '30101', '17350', '22254', '27781', '42605', '14848', '41027', '7314', '45103', '9737', '23294', '15771', '27019', '15251', '493', '40898', '34905', '27270', '27817', '21020', '23049', '46764', '21430', '12236', '5096', '40950', '47430', '1047', '22146', '36329', '33669', '41644', '47742', '44038', '23644', '38985', '25943', '26180', '19428', '29747', '3985', '24690', '10039', '27450', '11358', '34123', '8141', '2152', '23636', '18433', '15680', '35506', '41107', '6613', '23854', '44587', '34242', '31391', '37771', '21391', '39492', '36079', '37923', '22513', '38496', '29853', '37327', '41332', '8790', '32067', '32701', '30768', '15815', '41305', '23712', '11443', '17142', '38464', '17982', '44178', '34880', '25799', '39818', '12529', '21754', '30142', '5212', '1936', '15300', '10151', '18661', '33426', '20377', '2522', '40722', '34966', '11473', '38399', '44252', '15605', '30090', '12733', '45415', '21820', '3860', '22582', '6361', '15194', '53', '26499', '6988', '32686', '41527', '20751', '417', '18528', '45975', '33562', '19358', '25962', '31078', '11918', '41814', '7881', '6012', '21984', '21807', '3332', '27627', '19967', '3991', '13081', '16367', '35788', '14270', '30411', '2777', '23019', '24993', '17561', '41132', '38937', '8895', '14570', '7649', '2908', '47876', '43368', '34830', '4660', '6669', '18514', '19590', '23621', '33115', '31696', '14993', '23862', '34169', '21191', '6878', '7128', '42321', '6165', '18328', '11698', '14897', '9462', '25455', '21203', '22160', '42400', '37925', '5121', '18943', '46848', '39630', '45092', '8231', '43222', '34293', '2531', '38317', '32846', '21543', '41897', '7719', '36380', '29365', '26743', '27842', '25769', '12700', '8197', '34328', '45537', '28569', '17834', '31869', '45791', '17307', '40303', '31663', '15264', '32544', '28151', '26048', '39734', '47093', '26248', '17605', '43905', '11489', '3920', '34511', '32465', '16849', '22490', '26358', '18421', '28963', '34053', '30424', '34408', '46777', '3678', '27571', '36231', '36103', '15036', '23335', '36377', '29413', '27187', '47323', '29831', '38727', '25333', '23207', '18816', '41831', '5171', '2060', '47271', '41939', '31707', '13138', '36876', '28788', '22487', '37167', '12459', '14599', '37160', '46602', '16452', '26070', '43124', '16472', '4811', '8480', '36578', '35296', '1228', '2866', '21180', '4358', '21994', '17618', '34741', '23146', '23242', '12674', '46925', '21580', '10558', '42352', '26759', '41734', '5868', '14707', '15993', '28103', '46420', '3263', '43494', '15400', '16503', '10716', '1368', '9585', '8819', '2601', '39914', '1159', '38190', '28220', '34555', '377', '26288', '36852', '13896', '12122', '29543', '12452', '42127', '20099', '42831', '11902', '16312', '1125', '33962', '26605', '3444', '35567', '8031', '14162', '28680', '40264', '17393', '33651', '30456', '35676', '25176', '23516', '21939', '31742', '40060', '42661', '37559', '38001', '8272', '45436', '28164', '4102', '4722', '6292', '42733', '27436', '14100', '2965', '32296', '15559', '16296', '30560', '1455', '28171', '7476', '25915', '33737', '11748', '12575', '42235', '344', '5923', '34229', '1889', '17567', '8908', '24683', '27344', '38329', '25614', '13563', '11518', '25505', '45615', '27986', '26805', '26165', '44295', '385', '38361'}\n",
      "853: {'36514', '13021', '23053', '29950', '7443', '33093', '11220', '7253', '2141', '4567', '879', '42322', '37946', '46827', '24470', '15662', '47259', '12717', '22143', '42216', '5393', '11650', '26026', '21709', '19854', '19834', '46205', '31158', '47819', '18909', '31334', '2386', '13107', '21748', '3457', '2350', '47401', '1544', '29452', '2506', '16241', '11895', '20649', '17509', '33901', '15835', '5398', '4245', '40089', '23326', '23117', '37277', '28511', '4389', '1750', '35455', '1757', '30011', '32528', '18108', '27716', '43806', '27294', '44804', '11069', '17487', '26344', '15434', '25745', '40428', '42897', '37113', '4330', '3160', '26267', '13044', '7539', '1870', '6438', '36297', '9070', '34741', '26122', '2487', '16730', '47394', '10057', '38098', '14550', '17439', '31479', '40461', '45338', '14350', '47306', '30789', '10629', '18357', '31816', '16139', '42685', '1657', '27021', '8868', '43509', '1871', '18975', '4918', '22920', '10934', '20136', '37895', '4461', '6632', '41462', '17149', '20608', '4897', '8642', '40211', '45432', '30034', '33749', '20791', '41275', '10236', '1353', '8599', '27016', '32965', '37736', '44661', '19256', '11025', '14731', '16244', '14276', '22085', '3145', '23028', '1982', '25515', '35788', '23125', '19306', '15673', '26860', '13768', '37304', '28538', '491', '25950', '36770', '17469', '45315', '42376', '40675', '22332', '41564', '30425', '40452', '12033', '42898', '32931', '41308', '35463', '46410', '9571', '27302', '45854', '28745', '13642', '24015'}\n",
      "611: {'14475', '6177', '37632', '37748', '20529', '43892', '46851', '14409', '45178', '1823', '21599', '34283', '46124', '33467', '31900', '12913', '13103', '1126', '2443', '20287', '34999', '37255', '45713', '10720', '8059', '32621', '26750', '5688', '16020', '11533', '9832', '24346', '35062', '19136', '38068', '18176', '891', '27907', '46606', '11291', '27912', '24526', '19034', '1654', '10812', '37668', '23100', '2302', '2558', '25679', '25492', '16753', '27202', '21902', '17067', '7984', '35870', '19271', '114', '30093', '20966', '3239', '40928', '41287', '2085', '10311', '2306', '12910', '39905', '33019', '47887', '19640', '10637', '19307', '24483', '23111', '3986', '13339', '28137', '17419', '18525', '10611', '30596', '17497', '39032', '40921', '3326', '47001', '5500', '4119', '45411', '23520', '21509', '47834', '38099', '15954', '26758', '18498', '40703', '35316', '34568', '18435', '41339', '5410', '45892', '46403', '22719', '31735', '44283', '3312', '17512', '36434', '29506', '263', '30904', '8670', '14937', '31662', '36481', '3320', '11135', '30594', '13672', '15755', '2121', '31738', '27700', '29422', '44480', '20070', '20666', '38765', '9420', '28375', '46439', '445', '14520', '32813', '44151', '37846', '12051', '18193', '39984', '40792', '10206', '8062', '13661', '11817', '43434', '2268', '29333', '5532', '5478', '30413', '26410', '29852', '34183', '11729', '44469', '30546', '5565', '16814', '40062', '31053', '27233', '11456', '30114', '12817', '19620', '33846', '5453', '16987', '1162', '36335', '7097', '10965', '47937', '38604', '26169', '17427', '35322', '697', '22061', '42608', '14011', '24591', '35154', '4591', '35012', '14953', '28609', '45926', '3949', '47723', '39891', '16134', '30988', '12074', '18776', '11539', '45564', '41021', '15848', '11761', '13578', '1920', '19174', '23045', '21273', '33195', '40099', '24144', '5278', '3851', '9056', '23807', '35530', '38608', '19748', '36812', '16805', '3120', '8789', '43404', '42348', '14273', '40511', '27042', '30897', '42647', '34881', '42477', '46737', '12305', '29151', '12861', '12432', '32195', '32440', '647', '30145', '12138', '38961', '776', '19459', '38720', '43301', '4801', '44698', '5198', '7998', '15276', '41560', '15657', '27417', '41435', '22292', '43731', '25023', '30696', '8759', '8427', '29988', '26962', '29713', '2784', '27563', '11751', '23578', '20604', '34246', '27950', '23637', '25633', '11466', '23400', '3774', '26350', '23312', '39929', '908', '44837', '6861', '44690', '27786', '33420', '34289', '22496', '21172', '44177', '653', '16863', '26450', '45607', '29521', '29776', '3754', '8110', '16994', '18552', '13964', '45186', '46580', '13897', '15909', '10466', '39790', '3617', '47297', '10300', '31361', '10954', '26614', '4552', '32919', '19368', '44803', '11396', '8599', '36899', '46641', '31860', '2586', '8315', '30222', '2773', '27768', '4746', '47461', '1796', '45828', '45027', '22054', '16091', '13782', '13481', '21398', '1715', '45918', '4852', '7232', '41973', '30821', '39040', '5709', '24393', '20111', '7177', '29912', '38356', '4', '34144', '7352', '40248', '4581', '27602', '76', '33340', '40867', '40635', '45986', '7927', '44297', '12383', '36828', '23308', '15489', '28506', '43545', '22252', '8797', '6356', '9339', '29160', '26777', '33354', '5554', '20253', '39757', '1096', '3216', '36085', '17774', '4855', '18915', '1934', '31344', '42008', '5325', '1297', '14017', '39309', '34078', '18812', '622', '37345', '35703', '46587', '39380', '20789', '20888', '14055', '15693', '24177', '44962', '20416', '32495', '21410', '35819', '2597', '34686', '41650', '2232', '43882', '32662', '43405', '41549', '19074', '30795', '23915', '20170', '4962', '14005', '30461', '42206', '32712', '34271', '43612', '6542', '14645', '41374', '43456', '29563', '9247', '36826', '40520', '2311', '25886', '40717', '23299', '43695', '40011', '36823', '19524', '34515', '46424', '21978', '31495', '25895', '15855', '124', '6194', '25712', '31210', '40755', '36347', '742', '22367', '32511', '11571', '43485', '10459', '17695', '41868', '45359', '12925', '19937', '931', '2754', '18297', '17657', '25578', '15131', '31850', '6385', '12285', '45349', '6354', '21371', '13714', '29113', '40266', '22820', '22748', '33443', '214', '38173', '11847', '18862', '15996', '40146', '38605', '5620', '1611', '33361', '33808', '18465', '35963', '7301', '31143', '36728', '24686', '23574', '6702', '2411', '28292', '6790', '37869', '4205', '27871', '44101', '2305', '17981', '21461', '27414', '24075', '10599', '34971', '46542', '32452', '9431', '46252', '47042', '4103', '37855', '35890', '5619', '47222', '17323', '17731', '29378', '43048', '44140', '43778', '37057', '35437', '15363', '21807', '689', '25563', '16259', '33727', '17225', '46356', '36394', '1438', '47895', '19484', '27860', '1018', '35308', '31653', '41539', '40720', '46913', '42910', '12827', '34598', '23317', '374', '28406', '37298', '200', '40675', '19847', '3220', '2971', '18514', '4819', '15217', '38096', '31178', '6081', '9430', '2983', '36345', '7122', '10054', '1893', '10697', '27605', '46675', '17135', '30626', '10007', '31154', '17192', '39589', '23431', '13557', '20537', '7149', '16234', '23744', '2368', '45155', '15394', '10335', '7227', '30161', '33744', '29295', '44986', '26487', '27962', '34786', '41324', '39010', '46817', '25870', '1316', '36472', '3749', '29006', '17486', '12478', '40277', '13452', '24261', '2582', '5043', '39734', '20147', '42166', '44441', '26779', '26812', '25254', '44248', '17170', '21648', '44334', '40771', '32718', '12835', '18612', '5263', '6615', '8911', '47653', '45094', '26710', '29937', '14092', '42978', '28413', '11783', '23614', '21960', '8708', '23129', '889', '34480', '39994', '5570', '17682', '20526', '18407', '35879', '31355', '19885', '22045', '23275', '42855', '25796', '43157', '31908', '40889', '6055', '7480', '13926', '24427', '44263', '6002', '22949', '19284', '42014', '33612', '46165', '19258', '12132', '7950', '18342', '38395', '30187', '9585', '21809', '22716', '25954', '27058', '17764', '12199', '32090', '29961', '2719', '35602', '17342', '34835', '12857', '29123', '30043', '2877', '42940', '31957', '9887', '13895', '44794', '13193', '37268', '27347', '32204', '7050', '20520', '54', '34214', '42900', '45001', '39693', '19131', '13670', '16167', '18727', '6471', '9978', '29626', '21292', '42582', '42364', '30856', '47700', '30777', '1006', '1', '1169', '33564', '9200', '24371', '8398', '31481', '31558', '43362', '46951', '25475', '42903', '26542', '37540', '13749', '29568', '31044', '45276', '17991', '36091', '14616', '44723', '30713', '25874', '1114', '10049', '7503', '15257', '42934', '38428', '34674', '25614', '29415', '33851', '34608', '46444', '35205', '33287', '35569', '36316', '16986', '25730', '43736'}\n"
     ]
    }
   ],
   "source": [
    "import itertools\n",
    "first_three_groups = dict(itertools.islice(itemUsers.items(), 3))\n",
    "\n",
    "for group, values in first_three_groups.items():\n",
    "    print(f\"{group}: {values}\")"
   ]
  },
  {
   "cell_type": "code",
   "execution_count": 10,
   "metadata": {},
   "outputs": [],
   "source": [
    "# Jaccard similarity function\n",
    "def jaccard_similarity(list1, list2):\n",
    "    intersection = len(set(list1).intersection(set(list2)))\n",
    "    union = len(set(list1).union(set(list2)))\n",
    "    return intersection / union"
   ]
  },
  {
   "cell_type": "code",
   "execution_count": 11,
   "metadata": {},
   "outputs": [],
   "source": [
    "def predictionJaccard(data, userItems, itemUsers, threshold):\n",
    "    pred = []\n",
    "    cnt = 0\n",
    "    for user,item,_ in data:\n",
    "        # print(user)\n",
    "        cnt += 1\n",
    "        similarities = []\n",
    "        for i in userItems[user]:\n",
    "            # print(cnt)\n",
    "            if item == i: continue\n",
    "            similarities.append(jaccard_similarity(itemUsers[item], itemUsers[i]))\n",
    "        max_sim = max(similarities+[0])\n",
    "        #print(max_sim)\n",
    "        if max_sim > threshold:\n",
    "            pred.append(1)\n",
    "        else:\n",
    "            pred.append(0)\n",
    "        #print(pred)\n",
    "    return pred"
   ]
  },
  {
   "cell_type": "code",
   "execution_count": 12,
   "metadata": {},
   "outputs": [],
   "source": [
    "pred = predictionJaccard(modcloth_valid_base,userItems, itemUsers, threshold=0.1)"
   ]
  },
  {
   "cell_type": "code",
   "execution_count": 13,
   "metadata": {},
   "outputs": [],
   "source": [
    "best_accuracy = 0\n",
    "best_threshold = 0"
   ]
  },
  {
   "cell_type": "code",
   "execution_count": 14,
   "metadata": {},
   "outputs": [],
   "source": [
    "thresholds = [i / 1000 for i in range(1, 1000)]"
   ]
  },
  {
   "cell_type": "code",
   "execution_count": 15,
   "metadata": {},
   "outputs": [],
   "source": [
    "labels = [1 if l[-1] == '1' else 0 for l in modcloth_valid_base]"
   ]
  },
  {
   "cell_type": "code",
   "execution_count": 16,
   "metadata": {},
   "outputs": [],
   "source": [
    "for threshold in thresholds:\n",
    "    pred = predictionJaccard(modcloth_valid_base, userItems, itemUsers,threshold)\n",
    "    accurate = [pred == label for pred, label in zip(pred,labels)]\n",
    "    accuracy = sum(accurate)/len(accurate)\n",
    "    if accuracy > best_accuracy:\n",
    "        best_accuracy = accuracy\n",
    "        best_threshold = threshold"
   ]
  },
  {
   "cell_type": "code",
   "execution_count": 17,
   "metadata": {},
   "outputs": [
    {
     "data": {
      "text/plain": [
       "0.001"
      ]
     },
     "execution_count": 17,
     "metadata": {},
     "output_type": "execute_result"
    }
   ],
   "source": [
    "best_threshold"
   ]
  },
  {
   "cell_type": "code",
   "execution_count": 18,
   "metadata": {},
   "outputs": [
    {
     "data": {
      "text/plain": [
       "0.506099770503684"
      ]
     },
     "execution_count": 18,
     "metadata": {},
     "output_type": "execute_result"
    }
   ],
   "source": [
    "best_accuracy"
   ]
  },
  {
   "cell_type": "code",
   "execution_count": 19,
   "metadata": {},
   "outputs": [],
   "source": [
    "test_pred = predictionJaccard(modcloth_test_base, userItems, itemUsers,0.001)"
   ]
  },
  {
   "cell_type": "code",
   "execution_count": 20,
   "metadata": {},
   "outputs": [],
   "source": [
    "test_lables = [1 if l[-1] == '1' else 0 for l in modcloth_test_base]"
   ]
  },
  {
   "cell_type": "code",
   "execution_count": 21,
   "metadata": {},
   "outputs": [],
   "source": [
    "f = open(\"actual_label_jaccard_modcloth.txt\", 'a')\n",
    "f.write(str(test_lables) + '\\n')\n",
    "f.close()"
   ]
  },
  {
   "cell_type": "code",
   "execution_count": 22,
   "metadata": {},
   "outputs": [],
   "source": [
    "f = open(\"predict_label_jaccard_modcloth.txt\", 'a')\n",
    "f.write(str(test_pred) + '\\n')\n",
    "f.close()"
   ]
  },
  {
   "cell_type": "code",
   "execution_count": 23,
   "metadata": {},
   "outputs": [],
   "source": [
    "accurate = [test_pred == label for test_pred, label in zip(test_pred,test_lables)]\n",
    "accuracy = sum(accurate)/len(accurate)"
   ]
  },
  {
   "cell_type": "code",
   "execution_count": 24,
   "metadata": {},
   "outputs": [
    {
     "data": {
      "text/plain": [
       "0.5062205580384105"
      ]
     },
     "execution_count": 24,
     "metadata": {},
     "output_type": "execute_result"
    }
   ],
   "source": [
    "accuracy"
   ]
  },
  {
   "cell_type": "markdown",
   "metadata": {},
   "source": [
    "## 2-popularity"
   ]
  },
  {
   "cell_type": "code",
   "execution_count": 25,
   "metadata": {},
   "outputs": [],
   "source": [
    "itemCount = defaultdict(int)\n",
    "totalBought = 0\n",
    "\n",
    "for user, item, _ in modcloth_train_base:\n",
    "    itemCount[item] += 1\n",
    "    totalBought += 1"
   ]
  },
  {
   "cell_type": "code",
   "execution_count": 26,
   "metadata": {},
   "outputs": [],
   "source": [
    "mostPopular = [(itemCount[x], x) for x in itemCount] #一个列表，包含所有游戏及其被玩次数的元组\n",
    "mostPopular.sort()\n",
    "mostPopular.reverse() #排序后的列表反转，使得最受欢迎的游戏排在最前面"
   ]
  },
  {
   "cell_type": "code",
   "execution_count": 36,
   "metadata": {},
   "outputs": [
    {
     "data": {
      "text/plain": [
       "[('46781', '763', '0'),\n",
       " ('2134', '1080', '1'),\n",
       " ('25523', '571', '1'),\n",
       " ('34468', '922', '1'),\n",
       " ('19934', '1151', '1'),\n",
       " ('12236', '602', '1'),\n",
       " ('20978', '611', '1'),\n",
       " ('25723', '68', '0'),\n",
       " ('47074', '95', '1'),\n",
       " ('26393', '432', '2')]"
      ]
     },
     "execution_count": 36,
     "metadata": {},
     "output_type": "execute_result"
    }
   ],
   "source": [
    "modcloth_valid_base[:10]"
   ]
  },
  {
   "cell_type": "code",
   "execution_count": 37,
   "metadata": {},
   "outputs": [],
   "source": [
    "def prepare_features(modcloth_valid_base, totalBought, mostPopular, userItems, itemUsers):\n",
    "    X = []  # 特征数组\n",
    "    Y = []  # 标签数组\n",
    "\n",
    "    for user, item, fit in modcloth_valid_base:\n",
    "        features = []\n",
    "\n",
    "        # 特征1: 流行度（游戏被玩的次数占总次数的比例）\n",
    "        item_popularity = itemCount[item] / totalBought\n",
    "        features.append(item_popularity)\n",
    "\n",
    "        \n",
    "        X.append(features)\n",
    "        Y.append(1 if int(fit) == 1 else 0)\n",
    "\n",
    "    return X, Y"
   ]
  },
  {
   "cell_type": "code",
   "execution_count": 38,
   "metadata": {},
   "outputs": [],
   "source": [
    "X_train, Y_train = prepare_features(modcloth_valid_base, totalBought, mostPopular, userItems, itemUsers)"
   ]
  },
  {
   "cell_type": "code",
   "execution_count": 39,
   "metadata": {},
   "outputs": [
    {
     "data": {
      "text/html": [
       "<style>#sk-container-id-2 {color: black;background-color: white;}#sk-container-id-2 pre{padding: 0;}#sk-container-id-2 div.sk-toggleable {background-color: white;}#sk-container-id-2 label.sk-toggleable__label {cursor: pointer;display: block;width: 100%;margin-bottom: 0;padding: 0.3em;box-sizing: border-box;text-align: center;}#sk-container-id-2 label.sk-toggleable__label-arrow:before {content: \"▸\";float: left;margin-right: 0.25em;color: #696969;}#sk-container-id-2 label.sk-toggleable__label-arrow:hover:before {color: black;}#sk-container-id-2 div.sk-estimator:hover label.sk-toggleable__label-arrow:before {color: black;}#sk-container-id-2 div.sk-toggleable__content {max-height: 0;max-width: 0;overflow: hidden;text-align: left;background-color: #f0f8ff;}#sk-container-id-2 div.sk-toggleable__content pre {margin: 0.2em;color: black;border-radius: 0.25em;background-color: #f0f8ff;}#sk-container-id-2 input.sk-toggleable__control:checked~div.sk-toggleable__content {max-height: 200px;max-width: 100%;overflow: auto;}#sk-container-id-2 input.sk-toggleable__control:checked~label.sk-toggleable__label-arrow:before {content: \"▾\";}#sk-container-id-2 div.sk-estimator input.sk-toggleable__control:checked~label.sk-toggleable__label {background-color: #d4ebff;}#sk-container-id-2 div.sk-label input.sk-toggleable__control:checked~label.sk-toggleable__label {background-color: #d4ebff;}#sk-container-id-2 input.sk-hidden--visually {border: 0;clip: rect(1px 1px 1px 1px);clip: rect(1px, 1px, 1px, 1px);height: 1px;margin: -1px;overflow: hidden;padding: 0;position: absolute;width: 1px;}#sk-container-id-2 div.sk-estimator {font-family: monospace;background-color: #f0f8ff;border: 1px dotted black;border-radius: 0.25em;box-sizing: border-box;margin-bottom: 0.5em;}#sk-container-id-2 div.sk-estimator:hover {background-color: #d4ebff;}#sk-container-id-2 div.sk-parallel-item::after {content: \"\";width: 100%;border-bottom: 1px solid gray;flex-grow: 1;}#sk-container-id-2 div.sk-label:hover label.sk-toggleable__label {background-color: #d4ebff;}#sk-container-id-2 div.sk-serial::before {content: \"\";position: absolute;border-left: 1px solid gray;box-sizing: border-box;top: 0;bottom: 0;left: 50%;z-index: 0;}#sk-container-id-2 div.sk-serial {display: flex;flex-direction: column;align-items: center;background-color: white;padding-right: 0.2em;padding-left: 0.2em;position: relative;}#sk-container-id-2 div.sk-item {position: relative;z-index: 1;}#sk-container-id-2 div.sk-parallel {display: flex;align-items: stretch;justify-content: center;background-color: white;position: relative;}#sk-container-id-2 div.sk-item::before, #sk-container-id-2 div.sk-parallel-item::before {content: \"\";position: absolute;border-left: 1px solid gray;box-sizing: border-box;top: 0;bottom: 0;left: 50%;z-index: -1;}#sk-container-id-2 div.sk-parallel-item {display: flex;flex-direction: column;z-index: 1;position: relative;background-color: white;}#sk-container-id-2 div.sk-parallel-item:first-child::after {align-self: flex-end;width: 50%;}#sk-container-id-2 div.sk-parallel-item:last-child::after {align-self: flex-start;width: 50%;}#sk-container-id-2 div.sk-parallel-item:only-child::after {width: 0;}#sk-container-id-2 div.sk-dashed-wrapped {border: 1px dashed gray;margin: 0 0.4em 0.5em 0.4em;box-sizing: border-box;padding-bottom: 0.4em;background-color: white;}#sk-container-id-2 div.sk-label label {font-family: monospace;font-weight: bold;display: inline-block;line-height: 1.2em;}#sk-container-id-2 div.sk-label-container {text-align: center;}#sk-container-id-2 div.sk-container {/* jupyter's `normalize.less` sets `[hidden] { display: none; }` but bootstrap.min.css set `[hidden] { display: none !important; }` so we also need the `!important` here to be able to override the default hidden behavior on the sphinx rendered scikit-learn.org. See: https://github.com/scikit-learn/scikit-learn/issues/21755 */display: inline-block !important;position: relative;}#sk-container-id-2 div.sk-text-repr-fallback {display: none;}</style><div id=\"sk-container-id-2\" class=\"sk-top-container\"><div class=\"sk-text-repr-fallback\"><pre>LogisticRegression()</pre><b>In a Jupyter environment, please rerun this cell to show the HTML representation or trust the notebook. <br />On GitHub, the HTML representation is unable to render, please try loading this page with nbviewer.org.</b></div><div class=\"sk-container\" hidden><div class=\"sk-item\"><div class=\"sk-estimator sk-toggleable\"><input class=\"sk-toggleable__control sk-hidden--visually\" id=\"sk-estimator-id-2\" type=\"checkbox\" checked><label for=\"sk-estimator-id-2\" class=\"sk-toggleable__label sk-toggleable__label-arrow\">LogisticRegression</label><div class=\"sk-toggleable__content\"><pre>LogisticRegression()</pre></div></div></div></div></div>"
      ],
      "text/plain": [
       "LogisticRegression()"
      ]
     },
     "execution_count": 39,
     "metadata": {},
     "output_type": "execute_result"
    }
   ],
   "source": [
    "# 使用逻辑回归模型\n",
    "model = linear_model.LogisticRegression()\n",
    "model.fit(X_train, Y_train)"
   ]
  },
  {
   "cell_type": "code",
   "execution_count": 40,
   "metadata": {},
   "outputs": [],
   "source": [
    "# 对验证集进行预测\n",
    "pred = model.predict(X_train)\n",
    "\n",
    "# 计算准确率\n",
    "correct_predictions = [p == y for p, y in zip(pred, Y_train)]\n",
    "accuracy = sum(correct_predictions) / len(correct_predictions)"
   ]
  },
  {
   "cell_type": "code",
   "execution_count": 41,
   "metadata": {},
   "outputs": [
    {
     "name": "stdout",
     "output_type": "stream",
     "text": [
      "Coefficients: [[1.25817983]]\n",
      "Intercept: [0.78000363]\n"
     ]
    }
   ],
   "source": [
    "# 获取模型的系数（权重）\n",
    "coefficients = model.coef_\n",
    "\n",
    "# 获取模型的截距（偏差）\n",
    "intercept = model.intercept_\n",
    "\n",
    "# 打印这些参数\n",
    "print(\"Coefficients:\", coefficients)\n",
    "print(\"Intercept:\", intercept)\n"
   ]
  },
  {
   "cell_type": "code",
   "execution_count": 42,
   "metadata": {},
   "outputs": [],
   "source": [
    "f = open(\"actual_label_popularity_modcloth.txt\", 'a')\n",
    "f.write(str(Y_train) + '\\n')\n",
    "f.close()"
   ]
  },
  {
   "cell_type": "code",
   "execution_count": 43,
   "metadata": {},
   "outputs": [],
   "source": [
    "f = open(\"predicted_label_popularity_modcloth.txt\", 'a')\n",
    "f.write(str(test_lables) + '\\n')\n",
    "f.close()"
   ]
  },
  {
   "cell_type": "code",
   "execution_count": 44,
   "metadata": {},
   "outputs": [
    {
     "data": {
      "text/plain": [
       "0.6876434351974876"
      ]
     },
     "execution_count": 44,
     "metadata": {},
     "output_type": "execute_result"
    }
   ],
   "source": [
    "accuracy"
   ]
  },
  {
   "cell_type": "markdown",
   "metadata": {},
   "source": [
    "# renttherunway dataset visualization"
   ]
  },
  {
   "cell_type": "code",
   "execution_count": 45,
   "metadata": {},
   "outputs": [],
   "source": [
    "renttherunway_test = []\n",
    "renttherunway_train = []\n",
    "renttherunway_valid = []\n",
    "for l in readCSV(\"./data/renttherunway_final_data_processed_test.csv\"):\n",
    "    renttherunway_test.append(l)\n",
    "for l in readCSV(\"./data/renttherunway_final_data_processed_train.csv\"):\n",
    "    renttherunway_train.append(l)\n",
    "for l in readCSV(\"./data/renttherunway_final_data_processed_valid.csv\"):\n",
    "    renttherunway_valid.append(l)"
   ]
  },
  {
   "cell_type": "code",
   "execution_count": 46,
   "metadata": {},
   "outputs": [],
   "source": [
    "renttherunway_train_base = [(d['user_id'], d['item_id'], d['fit']) for d in renttherunway_train]\n",
    "renttherunway_test_base = [(d['user_id'], d['item_id'], d['fit']) for d in renttherunway_test]\n",
    "renttherunway_valid_base = [(d['user_id'], d['item_id'], d['fit']) for d in renttherunway_valid]\n"
   ]
  },
  {
   "cell_type": "markdown",
   "metadata": {},
   "source": [
    "## 1-Similarity"
   ]
  },
  {
   "cell_type": "code",
   "execution_count": 47,
   "metadata": {},
   "outputs": [],
   "source": [
    "userItems2 = defaultdict(set) #user -> collection of item bought\n",
    "itemUsers2 = defaultdict(set) #item -> collection of users who bought the item"
   ]
  },
  {
   "cell_type": "code",
   "execution_count": 48,
   "metadata": {},
   "outputs": [],
   "source": [
    "for d in renttherunway_train_base:\n",
    "    user, item = d[0], d[1]\n",
    "    userItems2[user].add(item)\n",
    "    itemUsers2[item].add(user)"
   ]
  },
  {
   "cell_type": "code",
   "execution_count": 49,
   "metadata": {},
   "outputs": [],
   "source": [
    "# Jaccard similarity function\n",
    "def jaccard_similarity(list1, list2):\n",
    "    intersection = len(set(list1).intersection(set(list2)))\n",
    "    union = len(set(list1).union(set(list2)))\n",
    "    return intersection / union"
   ]
  },
  {
   "cell_type": "code",
   "execution_count": 50,
   "metadata": {},
   "outputs": [],
   "source": [
    "def predictionJaccard(data, userItems2, itemUsers2, threshold):\n",
    "    pred = []\n",
    "    cnt = 0\n",
    "    for user,item,_ in data:\n",
    "        # print(user)\n",
    "        cnt += 1\n",
    "        similarities = []\n",
    "        for i in userItems2[user]:\n",
    "            # print(cnt)\n",
    "            if item == i: continue\n",
    "            similarities.append(jaccard_similarity(itemUsers2[item], itemUsers2[i]))\n",
    "        max_sim = max(similarities+[0])\n",
    "        #print(max_sim)\n",
    "        if max_sim > threshold:\n",
    "            pred.append(1)\n",
    "        else:\n",
    "            pred.append(0)\n",
    "        #print(pred)\n",
    "    return pred"
   ]
  },
  {
   "cell_type": "code",
   "execution_count": 53,
   "metadata": {},
   "outputs": [],
   "source": [
    "best_accuracy2 = 0\n",
    "best_threshold2= 0"
   ]
  },
  {
   "cell_type": "code",
   "execution_count": 54,
   "metadata": {},
   "outputs": [],
   "source": [
    "thresholds2 = [i / 1000 for i in range(1, 100)]"
   ]
  },
  {
   "cell_type": "code",
   "execution_count": 55,
   "metadata": {},
   "outputs": [],
   "source": [
    "labels2 = [1 if l[-1] == '1' else 0 for l in renttherunway_valid_base]"
   ]
  },
  {
   "cell_type": "code",
   "execution_count": 59,
   "metadata": {},
   "outputs": [],
   "source": [
    "for threshold2 in thresholds2:\n",
    "    pred2 = predictionJaccard(renttherunway_valid_base, userItems2, itemUsers2,threshold2)\n",
    "    accurate = [pred2 == label2 for pred2, label2 in zip(pred2,labels2)]\n",
    "    accuracy = sum(accurate)/len(accurate)\n",
    "    if accuracy > best_accuracy2:\n",
    "        best_accuracy2 = accuracy\n",
    "        best_threshold2 = threshold"
   ]
  },
  {
   "cell_type": "code",
   "execution_count": 61,
   "metadata": {},
   "outputs": [
    {
     "data": {
      "text/plain": [
       "0.001"
      ]
     },
     "execution_count": 61,
     "metadata": {},
     "output_type": "execute_result"
    }
   ],
   "source": [
    "best_threshold2"
   ]
  },
  {
   "cell_type": "code",
   "execution_count": 62,
   "metadata": {},
   "outputs": [
    {
     "data": {
      "text/plain": [
       "0.35855"
      ]
     },
     "execution_count": 62,
     "metadata": {},
     "output_type": "execute_result"
    }
   ],
   "source": [
    "best_accuracy2"
   ]
  },
  {
   "cell_type": "code",
   "execution_count": 63,
   "metadata": {},
   "outputs": [],
   "source": [
    "test_pred2 = predictionJaccard(renttherunway_test_base, userItems2, itemUsers2,0.001)"
   ]
  },
  {
   "cell_type": "code",
   "execution_count": 64,
   "metadata": {},
   "outputs": [],
   "source": [
    "test_lables2 = [1 if l[-1] == '1' else 0 for l in renttherunway_test_base]"
   ]
  },
  {
   "cell_type": "code",
   "execution_count": 65,
   "metadata": {},
   "outputs": [],
   "source": [
    "accurate = [test_pred2 == label2 for test_pred2, label2 in zip(test_pred2,test_lables2)]\n",
    "accuracy = sum(accurate)/len(accurate)"
   ]
  },
  {
   "cell_type": "code",
   "execution_count": 66,
   "metadata": {},
   "outputs": [],
   "source": [
    "f = open(\"actual_label_similarit_renttherunway.txt\", 'a')\n",
    "f.write(str(test_lables2) + '\\n')\n",
    "f.close()"
   ]
  },
  {
   "cell_type": "code",
   "execution_count": 67,
   "metadata": {},
   "outputs": [],
   "source": [
    "f = open(\"predicted_label_similarit_renttherunway.txt\", 'a')\n",
    "f.write(str(test_pred2) + '\\n')\n",
    "f.close()"
   ]
  },
  {
   "cell_type": "code",
   "execution_count": 68,
   "metadata": {},
   "outputs": [
    {
     "data": {
      "text/plain": [
       "0.3629941217710187"
      ]
     },
     "execution_count": 68,
     "metadata": {},
     "output_type": "execute_result"
    }
   ],
   "source": [
    "accuracy"
   ]
  },
  {
   "cell_type": "markdown",
   "metadata": {},
   "source": [
    "## 2-Popularity"
   ]
  },
  {
   "cell_type": "code",
   "execution_count": 69,
   "metadata": {},
   "outputs": [],
   "source": [
    "itemCount2 = defaultdict(int)\n",
    "totalBought2 = 0\n",
    "\n",
    "for user, item, _ in renttherunway_train_base:\n",
    "    itemCount2[item] += 1\n",
    "    totalBought2 += 1"
   ]
  },
  {
   "cell_type": "code",
   "execution_count": 70,
   "metadata": {},
   "outputs": [],
   "source": [
    "mostPopular2 = [(itemCount2[x], x) for x in itemCount2] #一个列表，包含所有游戏及其被玩次数的元组\n",
    "mostPopular2.sort()\n",
    "mostPopular2.reverse() #排序后的列表反转，使得最受欢迎的游戏排在最前面"
   ]
  },
  {
   "cell_type": "code",
   "execution_count": 71,
   "metadata": {},
   "outputs": [],
   "source": [
    "def prepare_features(renttherunway_valid_base, totalBought2, mostPopular2, userItems2, itemUsers2):\n",
    "    X = []  # 特征数组\n",
    "    Y = []  # 标签数组\n",
    "\n",
    "    for user, item, fit in renttherunway_valid_base:\n",
    "        features = []\n",
    "\n",
    "        # 特征1: 流行度（游戏被玩的次数占总次数的比例）\n",
    "        item_popularity = itemCount[item] / totalBought\n",
    "        features.append(item_popularity)\n",
    "\n",
    "        \n",
    "        X.append(features)\n",
    "        Y.append(int(fit))\n",
    "\n",
    "    return X, Y"
   ]
  },
  {
   "cell_type": "code",
   "execution_count": 72,
   "metadata": {},
   "outputs": [],
   "source": [
    "X_train2, Y_train2 = prepare_features(renttherunway_valid_base, totalBought2, mostPopular2, userItems2, itemUsers2)"
   ]
  },
  {
   "cell_type": "code",
   "execution_count": 73,
   "metadata": {},
   "outputs": [
    {
     "data": {
      "text/html": [
       "<style>#sk-container-id-3 {color: black;background-color: white;}#sk-container-id-3 pre{padding: 0;}#sk-container-id-3 div.sk-toggleable {background-color: white;}#sk-container-id-3 label.sk-toggleable__label {cursor: pointer;display: block;width: 100%;margin-bottom: 0;padding: 0.3em;box-sizing: border-box;text-align: center;}#sk-container-id-3 label.sk-toggleable__label-arrow:before {content: \"▸\";float: left;margin-right: 0.25em;color: #696969;}#sk-container-id-3 label.sk-toggleable__label-arrow:hover:before {color: black;}#sk-container-id-3 div.sk-estimator:hover label.sk-toggleable__label-arrow:before {color: black;}#sk-container-id-3 div.sk-toggleable__content {max-height: 0;max-width: 0;overflow: hidden;text-align: left;background-color: #f0f8ff;}#sk-container-id-3 div.sk-toggleable__content pre {margin: 0.2em;color: black;border-radius: 0.25em;background-color: #f0f8ff;}#sk-container-id-3 input.sk-toggleable__control:checked~div.sk-toggleable__content {max-height: 200px;max-width: 100%;overflow: auto;}#sk-container-id-3 input.sk-toggleable__control:checked~label.sk-toggleable__label-arrow:before {content: \"▾\";}#sk-container-id-3 div.sk-estimator input.sk-toggleable__control:checked~label.sk-toggleable__label {background-color: #d4ebff;}#sk-container-id-3 div.sk-label input.sk-toggleable__control:checked~label.sk-toggleable__label {background-color: #d4ebff;}#sk-container-id-3 input.sk-hidden--visually {border: 0;clip: rect(1px 1px 1px 1px);clip: rect(1px, 1px, 1px, 1px);height: 1px;margin: -1px;overflow: hidden;padding: 0;position: absolute;width: 1px;}#sk-container-id-3 div.sk-estimator {font-family: monospace;background-color: #f0f8ff;border: 1px dotted black;border-radius: 0.25em;box-sizing: border-box;margin-bottom: 0.5em;}#sk-container-id-3 div.sk-estimator:hover {background-color: #d4ebff;}#sk-container-id-3 div.sk-parallel-item::after {content: \"\";width: 100%;border-bottom: 1px solid gray;flex-grow: 1;}#sk-container-id-3 div.sk-label:hover label.sk-toggleable__label {background-color: #d4ebff;}#sk-container-id-3 div.sk-serial::before {content: \"\";position: absolute;border-left: 1px solid gray;box-sizing: border-box;top: 0;bottom: 0;left: 50%;z-index: 0;}#sk-container-id-3 div.sk-serial {display: flex;flex-direction: column;align-items: center;background-color: white;padding-right: 0.2em;padding-left: 0.2em;position: relative;}#sk-container-id-3 div.sk-item {position: relative;z-index: 1;}#sk-container-id-3 div.sk-parallel {display: flex;align-items: stretch;justify-content: center;background-color: white;position: relative;}#sk-container-id-3 div.sk-item::before, #sk-container-id-3 div.sk-parallel-item::before {content: \"\";position: absolute;border-left: 1px solid gray;box-sizing: border-box;top: 0;bottom: 0;left: 50%;z-index: -1;}#sk-container-id-3 div.sk-parallel-item {display: flex;flex-direction: column;z-index: 1;position: relative;background-color: white;}#sk-container-id-3 div.sk-parallel-item:first-child::after {align-self: flex-end;width: 50%;}#sk-container-id-3 div.sk-parallel-item:last-child::after {align-self: flex-start;width: 50%;}#sk-container-id-3 div.sk-parallel-item:only-child::after {width: 0;}#sk-container-id-3 div.sk-dashed-wrapped {border: 1px dashed gray;margin: 0 0.4em 0.5em 0.4em;box-sizing: border-box;padding-bottom: 0.4em;background-color: white;}#sk-container-id-3 div.sk-label label {font-family: monospace;font-weight: bold;display: inline-block;line-height: 1.2em;}#sk-container-id-3 div.sk-label-container {text-align: center;}#sk-container-id-3 div.sk-container {/* jupyter's `normalize.less` sets `[hidden] { display: none; }` but bootstrap.min.css set `[hidden] { display: none !important; }` so we also need the `!important` here to be able to override the default hidden behavior on the sphinx rendered scikit-learn.org. See: https://github.com/scikit-learn/scikit-learn/issues/21755 */display: inline-block !important;position: relative;}#sk-container-id-3 div.sk-text-repr-fallback {display: none;}</style><div id=\"sk-container-id-3\" class=\"sk-top-container\"><div class=\"sk-text-repr-fallback\"><pre>LogisticRegression()</pre><b>In a Jupyter environment, please rerun this cell to show the HTML representation or trust the notebook. <br />On GitHub, the HTML representation is unable to render, please try loading this page with nbviewer.org.</b></div><div class=\"sk-container\" hidden><div class=\"sk-item\"><div class=\"sk-estimator sk-toggleable\"><input class=\"sk-toggleable__control sk-hidden--visually\" id=\"sk-estimator-id-3\" type=\"checkbox\" checked><label for=\"sk-estimator-id-3\" class=\"sk-toggleable__label sk-toggleable__label-arrow\">LogisticRegression</label><div class=\"sk-toggleable__content\"><pre>LogisticRegression()</pre></div></div></div></div></div>"
      ],
      "text/plain": [
       "LogisticRegression()"
      ]
     },
     "execution_count": 73,
     "metadata": {},
     "output_type": "execute_result"
    }
   ],
   "source": [
    "# 使用逻辑回归模型\n",
    "model2 = linear_model.LogisticRegression()\n",
    "model2.fit(X_train2, Y_train2)"
   ]
  },
  {
   "cell_type": "code",
   "execution_count": 74,
   "metadata": {},
   "outputs": [],
   "source": [
    "# 对验证集进行预测\n",
    "pred2 = model2.predict(X_train2)\n",
    "\n",
    "# 计算准确率\n",
    "correct_predictions = [p == y for p, y in zip(pred2, Y_train2)]\n",
    "accuracy = sum(correct_predictions) / len(correct_predictions)"
   ]
  },
  {
   "cell_type": "code",
   "execution_count": 75,
   "metadata": {},
   "outputs": [
    {
     "name": "stdout",
     "output_type": "stream",
     "text": [
      "Coefficients: [[0.28364886]]\n",
      "Intercept: [1.03857672]\n"
     ]
    }
   ],
   "source": [
    "# 获取模型的系数（权重）\n",
    "coefficients2 = model2.coef_\n",
    "\n",
    "# 获取模型的截距（偏差）\n",
    "intercept2 = model2.intercept_\n",
    "\n",
    "# 打印这些参数\n",
    "print(\"Coefficients:\", coefficients2)\n",
    "print(\"Intercept:\", intercept2)\n"
   ]
  },
  {
   "cell_type": "code",
   "execution_count": 76,
   "metadata": {},
   "outputs": [],
   "source": [
    "f = open(\"actual_label_popularity_renttherunway.txt\", 'a')\n",
    "f.write(str(Y_train2) + '\\n')\n",
    "f.close()"
   ]
  },
  {
   "cell_type": "code",
   "execution_count": 77,
   "metadata": {},
   "outputs": [],
   "source": [
    "f = open(\"predicted_label_popularity_renttherunway.txt\", 'a')\n",
    "f.write(str(pred2) + '\\n')\n",
    "f.close()"
   ]
  },
  {
   "cell_type": "code",
   "execution_count": 78,
   "metadata": {},
   "outputs": [
    {
     "data": {
      "text/plain": [
       "0.7386"
      ]
     },
     "execution_count": 78,
     "metadata": {},
     "output_type": "execute_result"
    }
   ],
   "source": [
    "accuracy"
   ]
  },
  {
   "cell_type": "code",
   "execution_count": null,
   "metadata": {},
   "outputs": [],
   "source": []
  }
 ],
 "metadata": {
  "kernelspec": {
   "display_name": "jupter",
   "language": "python",
   "name": "python3"
  },
  "language_info": {
   "codemirror_mode": {
    "name": "ipython",
    "version": 3
   },
   "file_extension": ".py",
   "mimetype": "text/x-python",
   "name": "python",
   "nbconvert_exporter": "python",
   "pygments_lexer": "ipython3",
   "version": "3.11.3"
  }
 },
 "nbformat": 4,
 "nbformat_minor": 2
}
