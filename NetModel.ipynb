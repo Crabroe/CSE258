{
 "cells": [
  {
   "cell_type": "code",
   "execution_count": 1,
   "metadata": {
    "id": "SlHADAO-FnQ_"
   },
   "outputs": [],
   "source": [
    "import numpy as np\n",
    "import pandas as pd\n",
    "from tqdm.notebook import tqdm\n",
    "\n",
    "import torch\n",
    "import torch.nn as nn\n",
    "import torch.nn.functional as F\n",
    "from torch.autograd import Variable\n",
    "\n",
    "from torch.utils.data import DataLoader\n",
    "from torch.nn.functional import relu\n",
    "\n",
    "from collections import defaultdict, OrderedDict\n",
    "from sklearn import metrics\n"
   ]
  },
  {
   "cell_type": "code",
   "execution_count": 2,
   "metadata": {
    "colab": {
     "base_uri": "https://localhost:8080/"
    },
    "id": "LPPO2NYqJF8C",
    "outputId": "cee42c8a-03ab-4766-f405-22f9f945619c"
   },
   "outputs": [
    {
     "name": "stdout",
     "output_type": "stream",
     "text": [
      "Torch 1.12.0+cu116 CUDA 11.6\n",
      "Device: cuda:0\n",
      "nvcc: NVIDIA (R) Cuda compiler driver\n",
      "Copyright (c) 2005-2023 NVIDIA Corporation\n",
      "Built on Fri_Nov__3_17:51:05_Pacific_Daylight_Time_2023\n",
      "Cuda compilation tools, release 12.3, V12.3.103\n",
      "Build cuda_12.3.r12.3/compiler.33492891_0\n"
     ]
    },
    {
     "data": {
      "text/plain": [
       "(True, device(type='cuda'))"
      ]
     },
     "execution_count": 2,
     "metadata": {},
     "output_type": "execute_result"
    }
   ],
   "source": [
    "print('Torch', torch.__version__, 'CUDA', torch.version.cuda)\n",
    "print('Device:', torch.device('cuda:0'))\n",
    "\n",
    "!nvcc --version\n",
    "\n",
    "device = torch.device(\"cuda\" if torch.cuda.is_available() else \"cpu\")\n",
    "torch.cuda.is_available(), device"
   ]
  },
  {
   "cell_type": "code",
   "execution_count": 3,
   "metadata": {
    "id": "U7EsH32EFnRA"
   },
   "outputs": [],
   "source": [
    "config = {}\n",
    "\n",
    "NUM_TARGETS= 3\n",
    "\n",
    "USER_PATHWAY  = [256, 128, 64]\n",
    "ITEM_PATHWAY = [256, 128, 64]\n",
    "COMBINED_PATHWAY = [256, 128, 64, 16]\n",
    "\n",
    "EMBED_DIM = 40\n",
    "NUM_ITEM_EMBED = 1378\n",
    "NUM_USER_EMBED = 47958\n",
    "NUM_CUPSIZE_EMBED =  12\n",
    "NUM_CATEGORY_EMBED = 7\n",
    "\n",
    "NUM_USER_NUMERIC = 5\n",
    "NUM_ITEM_NUMERIC = 2\n",
    "\n",
    "DROPOUT = 0.3\n",
    "\n",
    "EPOCHS = 5\n",
    "LR = 0.005\n",
    "WEIGHT_DECAY = 0.0001\n",
    "BATCH_SIZE = 128\n"
   ]
  },
  {
   "cell_type": "code",
   "execution_count": 4,
   "metadata": {
    "id": "ehDAsYrG96RX"
   },
   "outputs": [],
   "source": [
    "class ModCloth(torch.utils.data.Dataset):\n",
    "    def __init__(self,datapath):\n",
    "        self.data = pd.read_csv(datapath)\n",
    "\n",
    "    def __len__(self):\n",
    "        return self.data.shape[0]\n",
    "\n",
    "    def __getitem__(self, idx):\n",
    "\n",
    "        r = self.data.iloc[idx,:]\n",
    "\n",
    "        return {\n",
    "            \"user_id\" : np.array(r['user_id'], dtype=np.int64),\n",
    "            \"cup_size\" : np.array(r['cup_size'], dtype=np.int64),\n",
    "            \"user_numeric\" : np.array([r['waist'], r['hips'], r['bra_size'], r['height'], r['shoe_size']], dtype=np.float32),\n",
    "            \"item_id\" : np.array(r['item_id'], dtype = np.int64),\n",
    "            \"category\" :np.array(r['category'], dtype = np.int64),\n",
    "            \"item_numeric\" : np.array([r['size'], r['quality']], dtype=np.float32),\n",
    "            \"fit\" : np.array(r['fit'], dtype=np.int64)\n",
    "        }\n",
    "\n",
    "datasets = OrderedDict()\n",
    "splits = ['train', 'valid']\n",
    "datasets['train'] =  ModCloth(\"data/modcloth_final_data_processed_train.csv\")\n",
    "datasets['valid'] =  ModCloth(\"data/modcloth_final_data_processed_valid.csv\")\n",
    "datasets['test'] = ModCloth(\"data/modcloth_final_data_processed_test.csv\")"
   ]
  },
  {
   "cell_type": "code",
   "execution_count": 5,
   "metadata": {},
   "outputs": [
    {
     "data": {
      "text/plain": [
       "{'user_id': array(16027, dtype=int64),\n",
       " 'cup_size': array(3, dtype=int64),\n",
       " 'user_numeric': array([-0.04509614, -0.19018778, -0.63570035,  0.6589043 ,  1.2207674 ],\n",
       "       dtype=float32),\n",
       " 'item_id': array(102, dtype=int64),\n",
       " 'category': array(1, dtype=int64),\n",
       " 'item_numeric': array([-1.0471112,  0.0512912], dtype=float32),\n",
       " 'fit': array(1, dtype=int64)}"
      ]
     },
     "execution_count": 5,
     "metadata": {},
     "output_type": "execute_result"
    }
   ],
   "source": [
    "datasets['test'][0]"
   ]
  },
  {
   "cell_type": "code",
   "execution_count": 6,
   "metadata": {},
   "outputs": [],
   "source": [
    "def d4tsne(datasets):\n",
    "    dataset=[]\n",
    "    y=[]\n",
    "    for d in datasets['test']:\n",
    "        data=[]\n",
    "        data.append(int(d['cup_size']))\n",
    "        for i in d['user_numeric']:\n",
    "            data.append(float(i))\n",
    "\n",
    "        data.append(int(d['category']))\n",
    "        for i in d['item_numeric']:\n",
    "            data.append(float(i))\n",
    "        dataset.append(data)\n",
    "        y.append(1 if d['fit']==1 else 0)\n",
    "    return dataset,y"
   ]
  },
  {
   "cell_type": "code",
   "execution_count": 7,
   "metadata": {},
   "outputs": [],
   "source": [
    "dataset,y=d4tsne(datasets)"
   ]
  },
  {
   "cell_type": "code",
   "execution_count": 8,
   "metadata": {},
   "outputs": [],
   "source": [
    "dataset=[]\n",
    "y=[]\n",
    "for id,d in enumerate(datasets['train']):\n",
    "    if id >499:break\n",
    "    data=[]\n",
    "    data.append(int(d['cup_size']))\n",
    "    for i in d['user_numeric']:\n",
    "        data.append(float(i))\n",
    "    \n",
    "    data.append(int(d['category']))\n",
    "    for i in d['item_numeric']:\n",
    "        data.append(float(i))\n",
    "    dataset.append(data)\n",
    "    y.append(1 if d['fit']==1 else 0)\n",
    "# for d in datasets['valid']:\n",
    "#     data=[]\n",
    "#     data.append(int(d['cup_size']))\n",
    "#     for i in d['user_numeric']:\n",
    "#         data.append(float(i))\n",
    "    \n",
    "#     data.append(int(d['category']))\n",
    "#     for i in d['item_numeric']:\n",
    "#         data.append(float(i))\n",
    "#     dataset.append(data)\n",
    "#     y.append(d['fit'])\n",
    "# for d in datasets['test']:\n",
    "#     data=[]\n",
    "#     data.append(int(d['cup_size']))\n",
    "#     for i in d['user_numeric']:\n",
    "#         data.append(float(i))\n",
    "    \n",
    "#     data.append(int(d['category']))\n",
    "#     for i in d['item_numeric']:\n",
    "#         data.append(float(i))\n",
    "#     dataset.append(data)\n",
    "#     y.append(1 if d['fit']==1 else 0)"
   ]
  },
  {
   "cell_type": "code",
   "execution_count": 9,
   "metadata": {},
   "outputs": [
    {
     "data": {
      "text/plain": [
       "500"
      ]
     },
     "execution_count": 9,
     "metadata": {},
     "output_type": "execute_result"
    }
   ],
   "source": [
    "len(dataset)"
   ]
  },
  {
   "cell_type": "code",
   "execution_count": 10,
   "metadata": {},
   "outputs": [],
   "source": [
    "from sklearn.manifold import TSNE\n",
    "import matplotlib.pyplot as plt"
   ]
  },
  {
   "cell_type": "code",
   "execution_count": 11,
   "metadata": {},
   "outputs": [],
   "source": [
    "def tsne_visualization(X,y,name):\n",
    "    tsne = TSNE(n_components=2, random_state=0)\n",
    "\n",
    "    X_tsne = tsne.fit_transform(np.array(X))\n",
    "\n",
    "    colors = ['red', 'blue', 'green', 'purple', 'orange', 'yellow']\n",
    "\n",
    "    for i in np.unique(y):\n",
    "        plt.scatter(X_tsne[y == i, 0], X_tsne[y == i, 1], color=colors[i], label=i, alpha=0.3, s=5)\n",
    "\n",
    "    plt.legend()\n",
    "    plt.savefig(name)\n",
    "    plt.show()\n",
    "    "
   ]
  },
  {
   "cell_type": "code",
   "execution_count": 12,
   "metadata": {},
   "outputs": [
    {
     "data": {
      "image/png": "[encoded data removed]",
      "text/plain": [
       "<Figure size 640x480 with 1 Axes>"
      ]
     },
     "metadata": {},
     "output_type": "display_data"
    }
   ],
   "source": [
    "tsne_visualization(dataset,y,'original_ds1')"
   ]
  },
  {
   "cell_type": "code",
   "execution_count": 13,
   "metadata": {
    "id": "0vxnymEpFnRD"
   },
   "outputs": [],
   "source": [
    "# macro - Calculate metrics for each label, and find their unweighted mean. This does not take label imbalance into account\n",
    "# weighted - Calculate metrics for each label, and find their average weighted by support (the number of true instances for each label). This alters ‘macro’ to account for label imbalance; it can result in an F-score that is not between precision and recall.\n",
    "\n",
    "def compute_metrics(target, pred_probs, averaging = \"macro\"):\n",
    "\n",
    "    pred_labels = pred_probs.argmax(-1)\n",
    "    precision = metrics.precision_score(target, pred_labels, average=averaging)\n",
    "    recall = metrics.recall_score(target, pred_labels, average=averaging)\n",
    "    f1_score = metrics.f1_score(target, pred_labels, average=averaging)\n",
    "    accuracy = metrics.accuracy_score(target, pred_labels)\n",
    "    auc = metrics.roc_auc_score(target, pred_probs, average=averaging, multi_class=\"ovr\")\n",
    "\n",
    "    return precision, recall, f1_score, accuracy, auc"
   ]
  },
  {
   "cell_type": "code",
   "execution_count": 14,
   "metadata": {
    "id": "yicAQXX996RY"
   },
   "outputs": [],
   "source": [
    "class Base(nn.Module):\n",
    "    def __init__(self, user_pathway, item_pathway, combined_pathway, embed_dim, num_item_embed, num_user_embed, num_cupsize_embed, num_category_embed, dropout):\n",
    "        super().__init__()\n",
    "       \n",
    "        self.user_pathway = user_pathway\n",
    "        self.item_pathway = item_pathway\n",
    "        self.combined_pathway = combined_pathway\n",
    "        self.embedding_dim = embed_dim\n",
    "\n",
    "        self.user_embedding = nn.Embedding(num_user_embed, embed_dim, max_norm=1.0 )\n",
    "        self.cup_size_embedding = nn.Embedding(num_cupsize_embed, embed_dim, max_norm=1.0 )\n",
    "        self.item_embedding = nn.Embedding(num_item_embed, embed_dim, max_norm=1.0 )\n",
    "        self.category_embedding = nn.Embedding(num_category_embed, embed_dim, max_norm=1.0 )\n",
    "\n",
    "\n",
    "    def forward(self, batch_input):\n",
    "        # Customer Pathway\n",
    "        user_emb = self.user_embedding(batch_input[\"user_id\"])\n",
    "        cup_size_emb = self.cup_size_embedding(batch_input[\"cup_size\"])\n",
    "        user_representation = torch.cat( [user_emb, cup_size_emb, batch_input[\"user_numeric\"]], dim=-1 )\n",
    "        user_representation = self.user_transform_blocks(user_representation)\n",
    "\n",
    "        # Article Pathway\n",
    "        item_emb = self.item_embedding(batch_input[\"item_id\"])\n",
    "        category_emb = self.category_embedding(batch_input[\"category\"])\n",
    "        item_representation = torch.cat( [item_emb, category_emb, batch_input[\"item_numeric\"]], dim=-1 )\n",
    "        item_representation = self.item_transform_blocks(item_representation)\n",
    "\n",
    "        # Combine the pathways\n",
    "        combined_representation = torch.cat( [user_representation, item_representation], dim=-1 )\n",
    "        combined_representation = self.combined_blocks(combined_representation)\n",
    "\n",
    "        # Output layer of logits\n",
    "        logits = self.hidden2output(combined_representation)\n",
    "        pred_probs = F.softmax(logits, dim=-1)\n",
    "\n",
    "        return logits, pred_probs, combined_representation"
   ]
  },
  {
   "cell_type": "code",
   "execution_count": 15,
   "metadata": {
    "id": "PpthRqIj96RZ"
   },
   "outputs": [],
   "source": [
    "class SFNet(Base):\n",
    "    def __init__(self, user_pathway, item_pathway, combined_pathway, embed_dim, num_item_embed, num_user_embed, num_cupsize_embed, num_category_embed, dropout):\n",
    "        super().__init__(user_pathway, item_pathway, combined_pathway, embed_dim, num_item_embed, num_user_embed, num_cupsize_embed, num_category_embed, dropout)\n",
    "\n",
    "        # Customer pathway transformation  ==  user_embedding_dim + cup_size_embedding_dim + num_user_numeric_features\n",
    "        user_features_input_size = 2 * self.embedding_dim + NUM_USER_NUMERIC\n",
    "        self.user_pathway.insert(0, user_features_input_size)\n",
    "        self.user_transform_blocks = []\n",
    "        for i in range(1, len(self.user_pathway)):\n",
    "            self.user_transform_blocks.append( SkipBlock( self.user_pathway[i - 1], self.user_pathway[i] ) )\n",
    "            self.user_transform_blocks.append(nn.Dropout(DROPOUT))\n",
    "        self.user_transform_blocks = nn.Sequential(*self.user_transform_blocks)\n",
    "\n",
    "        # Article pathway transformation == item_embedding_dim + category_embedding_dim + num_item_numeric_features\n",
    "        item_features_input_size = 2 * self.embedding_dim + NUM_ITEM_NUMERIC\n",
    "        self.item_pathway.insert(0, item_features_input_size)\n",
    "        self.item_transform_blocks = []\n",
    "        for i in range(1, len(self.item_pathway)):\n",
    "            self.item_transform_blocks.append( SkipBlock( self.item_pathway[i - 1], self.item_pathway[i]) )\n",
    "            self.item_transform_blocks.append(nn.Dropout(DROPOUT))\n",
    "        self.item_transform_blocks = nn.Sequential(*self.item_transform_blocks)\n",
    "\n",
    "        # Combined top layer pathway\n",
    "        # u = output dim of user_transform_blocks, # t = output dim of item_transform_blocks\n",
    "        # Pathway combination through [u, t] # Hence, input dimension will be 2*dim(u)\n",
    "        combined_layer_input_size = 2 * self.user_pathway[-1]\n",
    "        self.combined_pathway.insert(0, combined_layer_input_size)\n",
    "        self.combined_blocks = []\n",
    "        for i in range(1, len(self.combined_pathway)):\n",
    "            self.combined_blocks.append( SkipBlock( self.combined_pathway[i - 1], self.combined_pathway[i]) )\n",
    "            self.combined_blocks.append(nn.Dropout(DROPOUT))\n",
    "        self.combined_blocks = nn.Sequential(*self.combined_blocks)\n",
    "\n",
    "        # Linear transformation from last hidden layer to output\n",
    "        self.hidden2output = nn.Linear(self.combined_pathway[-1], NUM_TARGETS)\n",
    "\n",
    "\n",
    "class SkipBlock(nn.Module):\n",
    "    def __init__(self, input_dim, output_dim):\n",
    "        \"\"\" Skip Connection for feed-forward  - ResNet Block \"\"\"\n",
    "        super().__init__()\n",
    "        self.W1 = nn.Linear(input_dim, output_dim)\n",
    "        self.W2 = nn.Linear(output_dim, output_dim)\n",
    "        self.I = nn.Linear(input_dim, output_dim)\n",
    "\n",
    "    def forward(self, x):\n",
    "        \"\"\"  z = ReLU(   W2( ReLU( W1(x))) + Projection(x))    \"\"\"\n",
    "        z = relu(self.W2(relu(self.W1(x))) + self.I(x))\n",
    "        return z\n"
   ]
  },
  {
   "cell_type": "code",
   "execution_count": 16,
   "metadata": {
    "id": "nP3EpC5EFnRE"
   },
   "outputs": [],
   "source": [
    "class MLP(Base):\n",
    "    def __init__(self,user_pathway, item_pathway, combined_pathway, embed_dim, num_item_embed, num_user_embed, num_cupsize_embed, num_category_embed, dropout):\n",
    "        super().__init__(user_pathway, item_pathway, combined_pathway, embed_dim, num_item_embed, num_user_embed, num_cupsize_embed, num_category_embed, dropout)\n",
    "\n",
    "        # Customer pathway transformation  ==  user_embedding_dim + cup_size_embedding_dim + num_user_numeric_features\n",
    "        user_features_input_size = 2 * self.embedding_dim + NUM_USER_NUMERIC\n",
    "        self.user_pathway.insert(0, user_features_input_size)\n",
    "        self.user_transform_blocks = []\n",
    "        for i in range(1, len(self.user_pathway)):\n",
    "            self.user_transform_blocks.append( LinearBlock( self.user_pathway[i - 1], self.user_pathway[i] ) )\n",
    "        self.user_transform_blocks = nn.Sequential(*self.user_transform_blocks)\n",
    "\n",
    "        # Article pathway transformation == item_embedding_dim + category_embedding_dim + num_item_numeric_features\n",
    "        item_features_input_size = 2 * self.embedding_dim + NUM_ITEM_NUMERIC\n",
    "        self.item_pathway.insert(0, item_features_input_size)\n",
    "        self.item_transform_blocks = []\n",
    "        for i in range(1, len(self.item_pathway)):\n",
    "            self.item_transform_blocks.append( LinearBlock( self.item_pathway[i - 1], self.item_pathway[i])  )\n",
    "        self.item_transform_blocks = nn.Sequential(*self.item_transform_blocks)\n",
    "\n",
    "        # Combined top layer pathway\n",
    "        # u = output dim of user_transform_blocks, # t = output dim of item_transform_blocks\n",
    "        # Pathway combination through [u, t] # Hence, input dimension will be 4*dim(u)\n",
    "        combined_layer_input_size = 2 * self.user_pathway[-1]\n",
    "        self.combined_pathway.insert(0, combined_layer_input_size)\n",
    "        self.combined_blocks = []\n",
    "        for i in range(1, len(self.combined_pathway)):\n",
    "            self.combined_blocks.append( LinearBlock( self.combined_pathway[i - 1], self.combined_pathway[i]) )\n",
    "        self.combined_blocks = nn.Sequential(*self.combined_blocks)\n",
    "\n",
    "        # Linear transformation from last hidden layer to output\n",
    "        self.hidden2output = nn.Linear(self.combined_pathway[-1], NUM_TARGETS)\n",
    "\n",
    "\n",
    "class LinearBlock(nn.Module):\n",
    "    def __init__(self, input_dim, output_dim):\n",
    "        \"\"\" Skip Connection for feed-forward  - ResNet Block \"\"\"\n",
    "        super().__init__()\n",
    "        self.W1 = nn.Linear(input_dim, output_dim)\n",
    "\n",
    "    def forward(self, x):\n",
    "        \"\"\"  z = ReLU(   W2( ReLU( W1(x))) + Projection(x))    \"\"\"\n",
    "        return relu(self.W1(x))\n"
   ]
  },
  {
   "cell_type": "code",
   "execution_count": 17,
   "metadata": {
    "colab": {
     "base_uri": "https://localhost:8080/"
    },
    "id": "B6QlmtdwFnRK",
    "outputId": "97a6415f-1198-408e-b2d8-ed5759920704"
   },
   "outputs": [
    {
     "name": "stdout",
     "output_type": "stream",
     "text": [
      "--------------------------------------------------\n",
      "MLP(\n",
      "  (user_embedding): Embedding(47958, 40, max_norm=1.0)\n",
      "  (cup_size_embedding): Embedding(12, 40, max_norm=1.0)\n",
      "  (item_embedding): Embedding(1378, 40, max_norm=1.0)\n",
      "  (category_embedding): Embedding(7, 40, max_norm=1.0)\n",
      "  (user_transform_blocks): Sequential(\n",
      "    (0): LinearBlock(\n",
      "      (W1): Linear(in_features=85, out_features=256, bias=True)\n",
      "    )\n",
      "    (1): LinearBlock(\n",
      "      (W1): Linear(in_features=256, out_features=128, bias=True)\n",
      "    )\n",
      "    (2): LinearBlock(\n",
      "      (W1): Linear(in_features=128, out_features=64, bias=True)\n",
      "    )\n",
      "  )\n",
      "  (item_transform_blocks): Sequential(\n",
      "    (0): LinearBlock(\n",
      "      (W1): Linear(in_features=82, out_features=256, bias=True)\n",
      "    )\n",
      "    (1): LinearBlock(\n",
      "      (W1): Linear(in_features=256, out_features=128, bias=True)\n",
      "    )\n",
      "    (2): LinearBlock(\n",
      "      (W1): Linear(in_features=128, out_features=64, bias=True)\n",
      "    )\n",
      "  )\n",
      "  (combined_blocks): Sequential(\n",
      "    (0): LinearBlock(\n",
      "      (W1): Linear(in_features=128, out_features=256, bias=True)\n",
      "    )\n",
      "    (1): LinearBlock(\n",
      "      (W1): Linear(in_features=256, out_features=128, bias=True)\n",
      "    )\n",
      "    (2): LinearBlock(\n",
      "      (W1): Linear(in_features=128, out_features=64, bias=True)\n",
      "    )\n",
      "    (3): LinearBlock(\n",
      "      (W1): Linear(in_features=64, out_features=16, bias=True)\n",
      "    )\n",
      "  )\n",
      "  (hidden2output): Linear(in_features=16, out_features=3, bias=True)\n",
      ")\n",
      "--------------------------------------------------\n",
      "Number of model parameters: 2175035\n",
      "--------------------------------------------------\n"
     ]
    }
   ],
   "source": [
    "model = MLP(USER_PATHWAY, ITEM_PATHWAY, COMBINED_PATHWAY, EMBED_DIM, NUM_ITEM_EMBED, NUM_USER_EMBED, NUM_CUPSIZE_EMBED, NUM_CATEGORY_EMBED, DROPOUT)\n",
    "model = model.to(device)\n",
    "\n",
    "print(\"-\" * 50)\n",
    "print(model)\n",
    "\n",
    "print(\"-\" * 50)\n",
    "total_params = sum(p.numel() for p in model.parameters())\n",
    "print(f\"Number of model parameters: {total_params}\")\n",
    "print(\"-\" * 50)\n",
    "\n",
    "loss_criterion = torch.nn.CrossEntropyLoss(reduction=\"mean\")\n",
    "optimizer = torch.optim.Adam(model.parameters(), lr = LR, weight_decay= WEIGHT_DECAY)"
   ]
  },
  {
   "cell_type": "code",
   "execution_count": 18,
   "metadata": {
    "colab": {
     "base_uri": "https://localhost:8080/"
    },
    "id": "SN2h7vipFnRL",
    "outputId": "8ff9253e-ceb9-4206-eddb-3136fd607205"
   },
   "outputs": [
    {
     "name": "stdout",
     "output_type": "stream",
     "text": [
      "TRAIN Batch Stats 0/518, Loss=1.23\n",
      "TRAIN Batch Stats 100/518, Loss=0.80\n",
      "TRAIN Batch Stats 200/518, Loss=0.76\n",
      "TRAIN Batch Stats 300/518, Loss=0.73\n",
      "TRAIN Batch Stats 400/518, Loss=0.88\n",
      "TRAIN Batch Stats 500/518, Loss=0.77\n",
      "TRAIN Batch Stats 517/518, Loss=0.78\n",
      "TRAIN Epoch 1 / 5, Mean Total Loss 0.8083117604255676\n",
      "VALID Batch Stats 0/65, Loss=0.69\n",
      "VALID Batch Stats 64/65, Loss=0.79\n",
      "VALID Epoch 1 / 5, Mean Total Loss 0.7897359132766724\n",
      "TRAIN Batch Stats 0/518, Loss=0.80\n",
      "TRAIN Batch Stats 100/518, Loss=0.76\n",
      "TRAIN Batch Stats 200/518, Loss=0.76\n",
      "TRAIN Batch Stats 300/518, Loss=0.77\n",
      "TRAIN Batch Stats 400/518, Loss=0.85\n",
      "TRAIN Batch Stats 500/518, Loss=0.76\n",
      "TRAIN Batch Stats 517/518, Loss=0.81\n",
      "TRAIN Epoch 1 / 5, Mean Total Loss 0.7880373597145081\n",
      "VALID Batch Stats 0/65, Loss=0.68\n",
      "VALID Batch Stats 64/65, Loss=0.78\n",
      "VALID Epoch 1 / 5, Mean Total Loss 0.7830959558486938\n",
      "TRAIN Batch Stats 0/518, Loss=0.72\n",
      "TRAIN Batch Stats 100/518, Loss=0.65\n",
      "TRAIN Batch Stats 200/518, Loss=0.81\n",
      "TRAIN Batch Stats 300/518, Loss=0.73\n",
      "TRAIN Batch Stats 400/518, Loss=0.88\n",
      "TRAIN Batch Stats 500/518, Loss=0.82\n",
      "TRAIN Batch Stats 517/518, Loss=0.62\n",
      "TRAIN Epoch 1 / 5, Mean Total Loss 0.7811627984046936\n",
      "VALID Batch Stats 0/65, Loss=0.66\n",
      "VALID Batch Stats 64/65, Loss=0.77\n",
      "VALID Epoch 1 / 5, Mean Total Loss 0.7732001543045044\n",
      "TRAIN Batch Stats 0/518, Loss=0.70\n",
      "TRAIN Batch Stats 100/518, Loss=0.61\n",
      "TRAIN Batch Stats 200/518, Loss=0.76\n",
      "TRAIN Batch Stats 300/518, Loss=0.80\n",
      "TRAIN Batch Stats 400/518, Loss=0.60\n",
      "TRAIN Batch Stats 500/518, Loss=0.73\n",
      "TRAIN Batch Stats 517/518, Loss=0.74\n",
      "TRAIN Epoch 2 / 5, Mean Total Loss 0.7571695446968079\n",
      "VALID Batch Stats 0/65, Loss=0.64\n",
      "VALID Batch Stats 64/65, Loss=0.71\n",
      "VALID Epoch 2 / 5, Mean Total Loss 0.7609593868255615\n",
      "TRAIN Batch Stats 0/518, Loss=0.80\n",
      "TRAIN Batch Stats 100/518, Loss=0.89\n",
      "TRAIN Batch Stats 200/518, Loss=0.72\n",
      "TRAIN Batch Stats 300/518, Loss=0.75\n",
      "TRAIN Batch Stats 400/518, Loss=0.70\n",
      "TRAIN Batch Stats 500/518, Loss=0.85\n",
      "TRAIN Batch Stats 517/518, Loss=0.73\n",
      "TRAIN Epoch 2 / 5, Mean Total Loss 0.7410913109779358\n",
      "VALID Batch Stats 0/65, Loss=0.65\n",
      "VALID Batch Stats 64/65, Loss=0.73\n",
      "VALID Epoch 2 / 5, Mean Total Loss 0.7509034276008606\n",
      "TRAIN Batch Stats 0/518, Loss=0.69\n",
      "TRAIN Batch Stats 100/518, Loss=0.63\n",
      "TRAIN Batch Stats 200/518, Loss=0.76\n",
      "TRAIN Batch Stats 300/518, Loss=0.87\n",
      "TRAIN Batch Stats 400/518, Loss=0.73\n",
      "TRAIN Batch Stats 500/518, Loss=0.74\n",
      "TRAIN Batch Stats 517/518, Loss=0.60\n",
      "TRAIN Epoch 2 / 5, Mean Total Loss 0.733123779296875\n",
      "VALID Batch Stats 0/65, Loss=0.62\n",
      "VALID Batch Stats 64/65, Loss=0.71\n",
      "VALID Epoch 2 / 5, Mean Total Loss 0.7581728100776672\n",
      "TRAIN Batch Stats 0/518, Loss=0.81\n",
      "TRAIN Batch Stats 100/518, Loss=0.73\n",
      "TRAIN Batch Stats 200/518, Loss=0.76\n",
      "TRAIN Batch Stats 300/518, Loss=0.73\n",
      "TRAIN Batch Stats 400/518, Loss=0.64\n",
      "TRAIN Batch Stats 500/518, Loss=0.79\n",
      "TRAIN Batch Stats 517/518, Loss=0.76\n",
      "TRAIN Epoch 3 / 5, Mean Total Loss 0.7305324673652649\n",
      "VALID Batch Stats 0/65, Loss=0.63\n",
      "VALID Batch Stats 64/65, Loss=0.71\n",
      "VALID Epoch 3 / 5, Mean Total Loss 0.7355197668075562\n",
      "TRAIN Batch Stats 0/518, Loss=0.71\n",
      "TRAIN Batch Stats 100/518, Loss=0.88\n",
      "TRAIN Batch Stats 200/518, Loss=0.73\n",
      "TRAIN Batch Stats 300/518, Loss=0.69\n",
      "TRAIN Batch Stats 400/518, Loss=0.72\n",
      "TRAIN Batch Stats 500/518, Loss=0.68\n",
      "TRAIN Batch Stats 517/518, Loss=0.49\n",
      "TRAIN Epoch 3 / 5, Mean Total Loss 0.7260345220565796\n",
      "VALID Batch Stats 0/65, Loss=0.62\n",
      "VALID Batch Stats 64/65, Loss=0.69\n",
      "VALID Epoch 3 / 5, Mean Total Loss 0.7393222451210022\n",
      "TRAIN Batch Stats 0/518, Loss=0.78\n",
      "TRAIN Batch Stats 100/518, Loss=0.72\n",
      "TRAIN Batch Stats 200/518, Loss=0.69\n",
      "TRAIN Batch Stats 300/518, Loss=0.69\n",
      "TRAIN Batch Stats 400/518, Loss=0.94\n",
      "TRAIN Batch Stats 500/518, Loss=0.73\n",
      "TRAIN Batch Stats 517/518, Loss=0.81\n",
      "TRAIN Epoch 3 / 5, Mean Total Loss 0.7241789102554321\n",
      "VALID Batch Stats 0/65, Loss=0.63\n",
      "VALID Batch Stats 64/65, Loss=0.70\n",
      "VALID Epoch 3 / 5, Mean Total Loss 0.7332236766815186\n",
      "TRAIN Batch Stats 0/518, Loss=0.73\n",
      "TRAIN Batch Stats 100/518, Loss=0.65\n",
      "TRAIN Batch Stats 200/518, Loss=0.74\n",
      "TRAIN Batch Stats 300/518, Loss=0.70\n",
      "TRAIN Batch Stats 400/518, Loss=0.75\n",
      "TRAIN Batch Stats 500/518, Loss=0.73\n",
      "TRAIN Batch Stats 517/518, Loss=0.80\n",
      "TRAIN Epoch 4 / 5, Mean Total Loss 0.7217725515365601\n",
      "VALID Batch Stats 0/65, Loss=0.65\n",
      "VALID Batch Stats 64/65, Loss=0.72\n",
      "VALID Epoch 4 / 5, Mean Total Loss 0.7398816347122192\n",
      "TRAIN Batch Stats 0/518, Loss=0.70\n",
      "TRAIN Batch Stats 100/518, Loss=0.65\n",
      "TRAIN Batch Stats 200/518, Loss=0.69\n",
      "TRAIN Batch Stats 300/518, Loss=0.66\n",
      "TRAIN Batch Stats 400/518, Loss=0.65\n",
      "TRAIN Batch Stats 500/518, Loss=0.71\n",
      "TRAIN Batch Stats 517/518, Loss=0.63\n",
      "TRAIN Epoch 4 / 5, Mean Total Loss 0.719794511795044\n",
      "VALID Batch Stats 0/65, Loss=0.64\n",
      "VALID Batch Stats 64/65, Loss=0.70\n",
      "VALID Epoch 4 / 5, Mean Total Loss 0.7341127991676331\n",
      "TRAIN Batch Stats 0/518, Loss=0.61\n",
      "TRAIN Batch Stats 100/518, Loss=0.83\n",
      "TRAIN Batch Stats 200/518, Loss=0.66\n",
      "TRAIN Batch Stats 300/518, Loss=0.74\n",
      "TRAIN Batch Stats 400/518, Loss=0.73\n",
      "TRAIN Batch Stats 500/518, Loss=0.71\n",
      "TRAIN Batch Stats 517/518, Loss=0.81\n",
      "TRAIN Epoch 4 / 5, Mean Total Loss 0.7192639112472534\n",
      "VALID Batch Stats 0/65, Loss=0.65\n",
      "VALID Batch Stats 64/65, Loss=0.74\n",
      "VALID Epoch 4 / 5, Mean Total Loss 0.7391123175621033\n",
      "TRAIN Batch Stats 0/518, Loss=0.75\n",
      "TRAIN Batch Stats 100/518, Loss=0.87\n",
      "TRAIN Batch Stats 200/518, Loss=0.69\n",
      "TRAIN Batch Stats 300/518, Loss=0.73\n",
      "TRAIN Batch Stats 400/518, Loss=0.68\n",
      "TRAIN Batch Stats 500/518, Loss=0.72\n",
      "TRAIN Batch Stats 517/518, Loss=0.61\n",
      "TRAIN Epoch 5 / 5, Mean Total Loss 0.7175827622413635\n",
      "VALID Batch Stats 0/65, Loss=0.63\n",
      "VALID Batch Stats 64/65, Loss=0.70\n",
      "VALID Epoch 5 / 5, Mean Total Loss 0.7379781603813171\n",
      "TRAIN Batch Stats 0/518, Loss=0.78\n",
      "TRAIN Batch Stats 100/518, Loss=0.76\n",
      "TRAIN Batch Stats 200/518, Loss=0.71\n",
      "TRAIN Batch Stats 300/518, Loss=0.73\n",
      "TRAIN Batch Stats 400/518, Loss=0.65\n",
      "TRAIN Batch Stats 500/518, Loss=0.67\n",
      "TRAIN Batch Stats 517/518, Loss=0.74\n",
      "TRAIN Epoch 5 / 5, Mean Total Loss 0.7166494727134705\n",
      "VALID Batch Stats 0/65, Loss=0.63\n",
      "VALID Batch Stats 64/65, Loss=0.71\n",
      "VALID Epoch 5 / 5, Mean Total Loss 0.73738032579422\n",
      "TRAIN Batch Stats 0/518, Loss=0.68\n",
      "TRAIN Batch Stats 100/518, Loss=0.80\n",
      "TRAIN Batch Stats 200/518, Loss=0.76\n",
      "TRAIN Batch Stats 300/518, Loss=0.68\n",
      "TRAIN Batch Stats 400/518, Loss=0.68\n",
      "TRAIN Batch Stats 500/518, Loss=0.79\n",
      "TRAIN Batch Stats 517/518, Loss=0.62\n",
      "TRAIN Epoch 5 / 5, Mean Total Loss 0.7151500582695007\n",
      "VALID Batch Stats 0/65, Loss=0.62\n",
      "VALID Batch Stats 64/65, Loss=0.70\n",
      "VALID Epoch 5 / 5, Mean Total Loss 0.7368013858795166\n"
     ]
    }
   ],
   "source": [
    "step = 0\n",
    "\n",
    "tensor = torch.cuda.FloatTensor if torch.cuda.is_available() else torch.Tensor\n",
    "\n",
    "for epoch in range(EPOCHS):\n",
    "\n",
    "    for d in datasets:\n",
    "        for split in splits:\n",
    "            data_loader = DataLoader( dataset=datasets[split], batch_size=BATCH_SIZE, shuffle = (split == \"train\") )\n",
    "\n",
    "            loss_tracker = defaultdict(tensor)\n",
    "\n",
    "            # Enable/Disable Dropout\n",
    "            if split == \"train\":\n",
    "                model.train()\n",
    "            else:\n",
    "                model.eval()\n",
    "                target_tracker = []\n",
    "                pred_tracker = []\n",
    "\n",
    "            for iteration, batch in enumerate(data_loader):\n",
    "\n",
    "                for k, v in batch.items():\n",
    "                    batch[k] = v.to(device)\n",
    "\n",
    "                # Forward pass\n",
    "                logits, pred_probs,_ = model(batch)\n",
    "\n",
    "                # loss calculation\n",
    "                loss = loss_criterion(logits, batch[\"fit\"])   # batch['fit'] are the true labels\n",
    "\n",
    "                # backward + optimization\n",
    "                if split == \"train\":\n",
    "                    optimizer.zero_grad()\n",
    "                    loss.backward()\n",
    "                    optimizer.step()\n",
    "                    step += 1\n",
    "\n",
    "                # bookkeepeing\n",
    "                loss_tracker[\"Total Loss\"] = torch.cat((loss_tracker[\"Total Loss\"], loss.view(1)))\n",
    "\n",
    "                if iteration % 100 == 0 or iteration + 1 == len(data_loader):\n",
    "                    print(f\"{split.upper()} Batch Stats {iteration}/{len(data_loader)}, Loss={loss.item() :.2f}\")\n",
    "\n",
    "                if split == \"valid\":\n",
    "                    target_tracker.append(batch[\"fit\"].cpu().numpy())\n",
    "                    pred_tracker.append(pred_probs.cpu().data.numpy())\n",
    "\n",
    "            print( f\"{split.upper()} Epoch {epoch + 1} / {EPOCHS}, Mean Total Loss {torch.mean(loss_tracker['Total Loss'])}\")\n",
    "\n"
   ]
  },
  {
   "cell_type": "code",
   "execution_count": 19,
   "metadata": {
    "colab": {
     "base_uri": "https://localhost:8080/"
    },
    "id": "VopBWrV5FnRM",
    "outputId": "f3856a2d-9d39-41b7-b0aa-6158df08ba8f"
   },
   "outputs": [
    {
     "name": "stdout",
     "output_type": "stream",
     "text": [
      "Preparing test data ...\n",
      "Evaluating model on test data ...\n",
      "--------------------------------------------------\n",
      "Metrics:\n",
      " Precision = 0.6760255089153385\n",
      " Recall = 0.7053614603481625\n",
      " F1-score = 0.6400128423569819\n",
      " Accuracy = 0.7053614603481625\n",
      " AUC = 0.7395884016326502\n",
      " \n",
      "--------------------------------------------------\n"
     ]
    }
   ],
   "source": [
    "target_tracker = []\n",
    "pred_tracker = []\n",
    "\n",
    "print(\"Preparing test data ...\")\n",
    "\n",
    "data_loader = DataLoader(dataset = datasets['train'], batch_size = BATCH_SIZE, shuffle=False)\n",
    "\n",
    "print(\"Evaluating model on test data ...\")\n",
    "model.eval()\n",
    "\n",
    "embeds1=[]\n",
    "y1=[]\n",
    "for d in datasets['train']:\n",
    "    y1.append(int(d['fit']))\n",
    "\n",
    "with torch.no_grad():\n",
    "\n",
    "    for iteration, batch in enumerate(data_loader):\n",
    "\n",
    "        for k, v in batch.items():\n",
    "            batch[k] = v.to(device)\n",
    "\n",
    "        # Forward pass\n",
    "        _, pred_probs,embeddings = model(batch)\n",
    "        embeds1.append(embeddings.cpu())\n",
    "        \n",
    "        target_tracker.append(batch[\"fit\"].cpu().numpy())\n",
    "        \n",
    "        pred_tracker.append(pred_probs.cpu().data.numpy())\n",
    "\n",
    "target_tracker = np.stack(target_tracker[:-1]).reshape(-1)\n",
    "pred_tracker = np.stack(pred_tracker[:-1], axis=0).reshape(-1, NUM_TARGETS)\n",
    "# print(pred_tracker)\n",
    "precision, recall, f1_score, accuracy, auc = compute_metrics(target_tracker, pred_tracker, averaging = \"weighted\")\n",
    "\n",
    "print(\"-\" * 50)\n",
    "print(f\"Metrics:\\n Precision = {precision}\\n Recall = {recall}\\n F1-score = {f1_score}\\n Accuracy = {accuracy}\\n AUC = {auc}\\n \")\n",
    "print(\"-\" * 50)"
   ]
  },
  {
   "cell_type": "code",
   "execution_count": 20,
   "metadata": {},
   "outputs": [],
   "source": [
    "y1=[1 if d==1 else 0 for d in y1]"
   ]
  },
  {
   "cell_type": "code",
   "execution_count": 21,
   "metadata": {},
   "outputs": [],
   "source": [
    "d1=[]\n",
    "\n",
    "for e in embeds1:\n",
    "    for ee in e.tolist():\n",
    "        d1.append(ee)"
   ]
  },
  {
   "cell_type": "code",
   "execution_count": 22,
   "metadata": {},
   "outputs": [
    {
     "data": {
      "image/png": "[encoded data removed]",
      "text/plain": [
       "<Figure size 640x480 with 1 Axes>"
      ]
     },
     "metadata": {},
     "output_type": "display_data"
    }
   ],
   "source": [
    "tsne_visualization(d1[:500],y1[:500],\"model1_ds1\") "
   ]
  },
  {
   "cell_type": "code",
   "execution_count": 28,
   "metadata": {},
   "outputs": [
    {
     "data": {
      "image/png": "[encoded data removed]",
      "text/plain": [
       "<Figure size 640x480 with 1 Axes>"
      ]
     },
     "metadata": {},
     "output_type": "display_data"
    }
   ],
   "source": [
    "tsne_visualization(d1[8000:8500],y1[8000:8500],\"model1_ds2\") "
   ]
  },
  {
   "cell_type": "code",
   "execution_count": 30,
   "metadata": {},
   "outputs": [
    {
     "data": {
      "image/png": "[encoded data removed]",
      "text/plain": [
       "<Figure size 640x480 with 1 Axes>"
      ]
     },
     "metadata": {},
     "output_type": "display_data"
    }
   ],
   "source": [
    "tsne_visualization(d1[4000:4500],y1[4000:4500],\"model2_ds2\") "
   ]
  },
  {
   "cell_type": "code",
   "execution_count": 27,
   "metadata": {},
   "outputs": [
    {
     "data": {
      "image/png": "[encoded data removed]",
      "text/plain": [
       "<Figure size 640x480 with 1 Axes>"
      ]
     },
     "metadata": {},
     "output_type": "display_data"
    }
   ],
   "source": [
    "tsne_visualization(d1[5000:5500],y1[5000:5500],\"model2_ds1\") "
   ]
  },
  {
   "cell_type": "code",
   "execution_count": 24,
   "metadata": {
    "colab": {
     "base_uri": "https://localhost:8080/"
    },
    "id": "DVl5-Yfs96Rc",
    "outputId": "086fb05e-46a4-439c-d5ab-1fb51398dab6"
   },
   "outputs": [
    {
     "name": "stdout",
     "output_type": "stream",
     "text": [
      "--------------------------------------------------\n",
      "SFNet(\n",
      "  (user_embedding): Embedding(47958, 40, max_norm=1.0)\n",
      "  (cup_size_embedding): Embedding(12, 40, max_norm=1.0)\n",
      "  (item_embedding): Embedding(1378, 40, max_norm=1.0)\n",
      "  (category_embedding): Embedding(7, 40, max_norm=1.0)\n",
      "  (user_transform_blocks): Sequential(\n",
      "    (0): SkipBlock(\n",
      "      (W1): Linear(in_features=85, out_features=85, bias=True)\n",
      "      (W2): Linear(in_features=85, out_features=85, bias=True)\n",
      "      (I): Linear(in_features=85, out_features=85, bias=True)\n",
      "    )\n",
      "    (1): Dropout(p=0.3, inplace=False)\n",
      "    (2): SkipBlock(\n",
      "      (W1): Linear(in_features=85, out_features=256, bias=True)\n",
      "      (W2): Linear(in_features=256, out_features=256, bias=True)\n",
      "      (I): Linear(in_features=85, out_features=256, bias=True)\n",
      "    )\n",
      "    (3): Dropout(p=0.3, inplace=False)\n",
      "    (4): SkipBlock(\n",
      "      (W1): Linear(in_features=256, out_features=128, bias=True)\n",
      "      (W2): Linear(in_features=128, out_features=128, bias=True)\n",
      "      (I): Linear(in_features=256, out_features=128, bias=True)\n",
      "    )\n",
      "    (5): Dropout(p=0.3, inplace=False)\n",
      "    (6): SkipBlock(\n",
      "      (W1): Linear(in_features=128, out_features=64, bias=True)\n",
      "      (W2): Linear(in_features=64, out_features=64, bias=True)\n",
      "      (I): Linear(in_features=128, out_features=64, bias=True)\n",
      "    )\n",
      "    (7): Dropout(p=0.3, inplace=False)\n",
      "  )\n",
      "  (item_transform_blocks): Sequential(\n",
      "    (0): SkipBlock(\n",
      "      (W1): Linear(in_features=82, out_features=82, bias=True)\n",
      "      (W2): Linear(in_features=82, out_features=82, bias=True)\n",
      "      (I): Linear(in_features=82, out_features=82, bias=True)\n",
      "    )\n",
      "    (1): Dropout(p=0.3, inplace=False)\n",
      "    (2): SkipBlock(\n",
      "      (W1): Linear(in_features=82, out_features=256, bias=True)\n",
      "      (W2): Linear(in_features=256, out_features=256, bias=True)\n",
      "      (I): Linear(in_features=82, out_features=256, bias=True)\n",
      "    )\n",
      "    (3): Dropout(p=0.3, inplace=False)\n",
      "    (4): SkipBlock(\n",
      "      (W1): Linear(in_features=256, out_features=128, bias=True)\n",
      "      (W2): Linear(in_features=128, out_features=128, bias=True)\n",
      "      (I): Linear(in_features=256, out_features=128, bias=True)\n",
      "    )\n",
      "    (5): Dropout(p=0.3, inplace=False)\n",
      "    (6): SkipBlock(\n",
      "      (W1): Linear(in_features=128, out_features=64, bias=True)\n",
      "      (W2): Linear(in_features=64, out_features=64, bias=True)\n",
      "      (I): Linear(in_features=128, out_features=64, bias=True)\n",
      "    )\n",
      "    (7): Dropout(p=0.3, inplace=False)\n",
      "  )\n",
      "  (combined_blocks): Sequential(\n",
      "    (0): SkipBlock(\n",
      "      (W1): Linear(in_features=128, out_features=128, bias=True)\n",
      "      (W2): Linear(in_features=128, out_features=128, bias=True)\n",
      "      (I): Linear(in_features=128, out_features=128, bias=True)\n",
      "    )\n",
      "    (1): Dropout(p=0.3, inplace=False)\n",
      "    (2): SkipBlock(\n",
      "      (W1): Linear(in_features=128, out_features=256, bias=True)\n",
      "      (W2): Linear(in_features=256, out_features=256, bias=True)\n",
      "      (I): Linear(in_features=128, out_features=256, bias=True)\n",
      "    )\n",
      "    (3): Dropout(p=0.3, inplace=False)\n",
      "    (4): SkipBlock(\n",
      "      (W1): Linear(in_features=256, out_features=128, bias=True)\n",
      "      (W2): Linear(in_features=128, out_features=128, bias=True)\n",
      "      (I): Linear(in_features=256, out_features=128, bias=True)\n",
      "    )\n",
      "    (5): Dropout(p=0.3, inplace=False)\n",
      "    (6): SkipBlock(\n",
      "      (W1): Linear(in_features=128, out_features=64, bias=True)\n",
      "      (W2): Linear(in_features=64, out_features=64, bias=True)\n",
      "      (I): Linear(in_features=128, out_features=64, bias=True)\n",
      "    )\n",
      "    (7): Dropout(p=0.3, inplace=False)\n",
      "    (8): SkipBlock(\n",
      "      (W1): Linear(in_features=64, out_features=16, bias=True)\n",
      "      (W2): Linear(in_features=16, out_features=16, bias=True)\n",
      "      (I): Linear(in_features=64, out_features=16, bias=True)\n",
      "    )\n",
      "    (9): Dropout(p=0.3, inplace=False)\n",
      "  )\n",
      "  (hidden2output): Linear(in_features=16, out_features=3, bias=True)\n",
      ")\n",
      "--------------------------------------------------\n",
      "Number of model parameters: 2727367\n",
      "--------------------------------------------------\n"
     ]
    }
   ],
   "source": [
    "EPOCHS = 5\n",
    "\n",
    "model = SFNet(USER_PATHWAY, ITEM_PATHWAY, COMBINED_PATHWAY, EMBED_DIM, NUM_ITEM_EMBED, NUM_USER_EMBED, NUM_CUPSIZE_EMBED, NUM_CATEGORY_EMBED, DROPOUT)\n",
    "model = model.to(device)\n",
    "\n",
    "print(\"-\" * 50)\n",
    "print(model)\n",
    "\n",
    "print(\"-\" * 50)\n",
    "total_params = sum(p.numel() for p in model.parameters())\n",
    "print(f\"Number of model parameters: {total_params}\")\n",
    "print(\"-\" * 50)\n",
    "\n",
    "loss_criterion = torch.nn.CrossEntropyLoss(reduction=\"mean\")\n",
    "optimizer = torch.optim.Adam(model.parameters(), lr = LR, weight_decay= WEIGHT_DECAY)"
   ]
  },
  {
   "cell_type": "code",
   "execution_count": 23,
   "metadata": {
    "colab": {
     "base_uri": "https://localhost:8080/"
    },
    "id": "gon_ggoD96Rd",
    "outputId": "a8ed87e8-b9cc-4ced-d8e8-7b6dd4761aab"
   },
   "outputs": [
    {
     "name": "stdout",
     "output_type": "stream",
     "text": [
      "TRAIN Batch Stats 0/518, Loss=0.70\n",
      "TRAIN Batch Stats 100/518, Loss=0.81\n",
      "TRAIN Batch Stats 200/518, Loss=0.72\n",
      "TRAIN Batch Stats 300/518, Loss=0.69\n",
      "TRAIN Batch Stats 400/518, Loss=0.63\n",
      "TRAIN Batch Stats 500/518, Loss=0.77\n",
      "TRAIN Batch Stats 517/518, Loss=0.71\n",
      "TRAIN Epoch 1 / 5, Mean Total Loss 0.7146241068840027\n",
      "VALID Batch Stats 0/65, Loss=0.63\n",
      "VALID Batch Stats 64/65, Loss=0.73\n",
      "VALID Epoch 1 / 5, Mean Total Loss 0.7344400882720947\n",
      "TRAIN Batch Stats 0/518, Loss=0.69\n",
      "TRAIN Batch Stats 100/518, Loss=0.63\n",
      "TRAIN Batch Stats 200/518, Loss=0.67\n",
      "TRAIN Batch Stats 300/518, Loss=0.72\n",
      "TRAIN Batch Stats 400/518, Loss=0.80\n",
      "TRAIN Batch Stats 500/518, Loss=0.70\n",
      "TRAIN Batch Stats 517/518, Loss=0.71\n",
      "TRAIN Epoch 1 / 5, Mean Total Loss 0.7146286964416504\n",
      "VALID Batch Stats 0/65, Loss=0.61\n",
      "VALID Batch Stats 64/65, Loss=0.71\n",
      "VALID Epoch 1 / 5, Mean Total Loss 0.734043538570404\n",
      "TRAIN Batch Stats 0/518, Loss=0.66\n",
      "TRAIN Batch Stats 100/518, Loss=0.66\n",
      "TRAIN Batch Stats 200/518, Loss=0.80\n",
      "TRAIN Batch Stats 300/518, Loss=0.65\n",
      "TRAIN Batch Stats 400/518, Loss=0.72\n",
      "TRAIN Batch Stats 500/518, Loss=0.76\n",
      "TRAIN Batch Stats 517/518, Loss=0.67\n",
      "TRAIN Epoch 1 / 5, Mean Total Loss 0.7135182023048401\n",
      "VALID Batch Stats 0/65, Loss=0.62\n",
      "VALID Batch Stats 64/65, Loss=0.70\n",
      "VALID Epoch 1 / 5, Mean Total Loss 0.7322450876235962\n",
      "TRAIN Batch Stats 0/518, Loss=0.81\n",
      "TRAIN Batch Stats 100/518, Loss=0.74\n",
      "TRAIN Batch Stats 200/518, Loss=0.71\n",
      "TRAIN Batch Stats 300/518, Loss=0.74\n",
      "TRAIN Batch Stats 400/518, Loss=0.68\n",
      "TRAIN Batch Stats 500/518, Loss=0.74\n",
      "TRAIN Batch Stats 517/518, Loss=0.69\n",
      "TRAIN Epoch 2 / 5, Mean Total Loss 0.7123368978500366\n",
      "VALID Batch Stats 0/65, Loss=0.62\n",
      "VALID Batch Stats 64/65, Loss=0.72\n",
      "VALID Epoch 2 / 5, Mean Total Loss 0.731630265712738\n",
      "TRAIN Batch Stats 0/518, Loss=0.68\n",
      "TRAIN Batch Stats 100/518, Loss=0.61\n",
      "TRAIN Batch Stats 200/518, Loss=0.64\n",
      "TRAIN Batch Stats 300/518, Loss=0.71\n",
      "TRAIN Batch Stats 400/518, Loss=0.80\n",
      "TRAIN Batch Stats 500/518, Loss=0.66\n",
      "TRAIN Batch Stats 517/518, Loss=0.80\n",
      "TRAIN Epoch 2 / 5, Mean Total Loss 0.7118971943855286\n",
      "VALID Batch Stats 0/65, Loss=0.64\n",
      "VALID Batch Stats 64/65, Loss=0.72\n",
      "VALID Epoch 2 / 5, Mean Total Loss 0.7331735491752625\n",
      "TRAIN Batch Stats 0/518, Loss=0.59\n",
      "TRAIN Batch Stats 100/518, Loss=0.66\n",
      "TRAIN Batch Stats 200/518, Loss=0.72\n",
      "TRAIN Batch Stats 300/518, Loss=0.69\n",
      "TRAIN Batch Stats 400/518, Loss=0.69\n",
      "TRAIN Batch Stats 500/518, Loss=0.67\n",
      "TRAIN Batch Stats 517/518, Loss=0.88\n",
      "TRAIN Epoch 2 / 5, Mean Total Loss 0.7123429179191589\n",
      "VALID Batch Stats 0/65, Loss=0.63\n",
      "VALID Batch Stats 64/65, Loss=0.74\n",
      "VALID Epoch 2 / 5, Mean Total Loss 0.7368376851081848\n",
      "TRAIN Batch Stats 0/518, Loss=0.76\n",
      "TRAIN Batch Stats 100/518, Loss=0.51\n",
      "TRAIN Batch Stats 200/518, Loss=0.83\n",
      "TRAIN Batch Stats 300/518, Loss=0.69\n",
      "TRAIN Batch Stats 400/518, Loss=0.64\n",
      "TRAIN Batch Stats 500/518, Loss=0.69\n",
      "TRAIN Batch Stats 517/518, Loss=0.77\n",
      "TRAIN Epoch 3 / 5, Mean Total Loss 0.7110630869865417\n",
      "VALID Batch Stats 0/65, Loss=0.61\n",
      "VALID Batch Stats 64/65, Loss=0.69\n",
      "VALID Epoch 3 / 5, Mean Total Loss 0.7316305041313171\n",
      "TRAIN Batch Stats 0/518, Loss=0.69\n",
      "TRAIN Batch Stats 100/518, Loss=0.74\n",
      "TRAIN Batch Stats 200/518, Loss=0.77\n",
      "TRAIN Batch Stats 300/518, Loss=0.79\n",
      "TRAIN Batch Stats 400/518, Loss=0.66\n",
      "TRAIN Batch Stats 500/518, Loss=0.66\n",
      "TRAIN Batch Stats 517/518, Loss=0.86\n",
      "TRAIN Epoch 3 / 5, Mean Total Loss 0.7116166353225708\n",
      "VALID Batch Stats 0/65, Loss=0.62\n",
      "VALID Batch Stats 64/65, Loss=0.70\n",
      "VALID Epoch 3 / 5, Mean Total Loss 0.7355079054832458\n",
      "TRAIN Batch Stats 0/518, Loss=0.74\n",
      "TRAIN Batch Stats 100/518, Loss=0.84\n",
      "TRAIN Batch Stats 200/518, Loss=0.72\n",
      "TRAIN Batch Stats 300/518, Loss=0.65\n",
      "TRAIN Batch Stats 400/518, Loss=0.78\n",
      "TRAIN Batch Stats 500/518, Loss=0.73\n",
      "TRAIN Batch Stats 517/518, Loss=0.69\n",
      "TRAIN Epoch 3 / 5, Mean Total Loss 0.7107384204864502\n",
      "VALID Batch Stats 0/65, Loss=0.62\n",
      "VALID Batch Stats 64/65, Loss=0.68\n",
      "VALID Epoch 3 / 5, Mean Total Loss 0.7325900197029114\n",
      "TRAIN Batch Stats 0/518, Loss=0.64\n",
      "TRAIN Batch Stats 100/518, Loss=0.83\n",
      "TRAIN Batch Stats 200/518, Loss=0.65\n",
      "TRAIN Batch Stats 300/518, Loss=0.64\n",
      "TRAIN Batch Stats 400/518, Loss=0.70\n",
      "TRAIN Batch Stats 500/518, Loss=0.66\n",
      "TRAIN Batch Stats 517/518, Loss=0.56\n",
      "TRAIN Epoch 4 / 5, Mean Total Loss 0.7096807360649109\n",
      "VALID Batch Stats 0/65, Loss=0.61\n",
      "VALID Batch Stats 64/65, Loss=0.69\n",
      "VALID Epoch 4 / 5, Mean Total Loss 0.7303551435470581\n",
      "TRAIN Batch Stats 0/518, Loss=0.74\n",
      "TRAIN Batch Stats 100/518, Loss=0.64\n",
      "TRAIN Batch Stats 200/518, Loss=0.63\n",
      "TRAIN Batch Stats 300/518, Loss=0.64\n",
      "TRAIN Batch Stats 400/518, Loss=0.77\n",
      "TRAIN Batch Stats 500/518, Loss=0.66\n",
      "TRAIN Batch Stats 517/518, Loss=0.61\n",
      "TRAIN Epoch 4 / 5, Mean Total Loss 0.7093212008476257\n",
      "VALID Batch Stats 0/65, Loss=0.61\n",
      "VALID Batch Stats 64/65, Loss=0.69\n",
      "VALID Epoch 4 / 5, Mean Total Loss 0.7349860668182373\n",
      "TRAIN Batch Stats 0/518, Loss=0.74\n",
      "TRAIN Batch Stats 100/518, Loss=0.74\n",
      "TRAIN Batch Stats 200/518, Loss=0.67\n",
      "TRAIN Batch Stats 300/518, Loss=0.66\n",
      "TRAIN Batch Stats 400/518, Loss=0.61\n",
      "TRAIN Batch Stats 500/518, Loss=0.69\n",
      "TRAIN Batch Stats 517/518, Loss=0.68\n",
      "TRAIN Epoch 4 / 5, Mean Total Loss 0.7094841599464417\n",
      "VALID Batch Stats 0/65, Loss=0.62\n",
      "VALID Batch Stats 64/65, Loss=0.70\n",
      "VALID Epoch 4 / 5, Mean Total Loss 0.7363021969795227\n",
      "TRAIN Batch Stats 0/518, Loss=0.70\n",
      "TRAIN Batch Stats 100/518, Loss=0.74\n",
      "TRAIN Batch Stats 200/518, Loss=0.82\n",
      "TRAIN Batch Stats 300/518, Loss=0.68\n",
      "TRAIN Batch Stats 400/518, Loss=0.75\n",
      "TRAIN Batch Stats 500/518, Loss=0.84\n",
      "TRAIN Batch Stats 517/518, Loss=0.75\n",
      "TRAIN Epoch 5 / 5, Mean Total Loss 0.7092963457107544\n",
      "VALID Batch Stats 0/65, Loss=0.60\n",
      "VALID Batch Stats 64/65, Loss=0.69\n",
      "VALID Epoch 5 / 5, Mean Total Loss 0.734748899936676\n",
      "TRAIN Batch Stats 0/518, Loss=0.70\n",
      "TRAIN Batch Stats 100/518, Loss=0.62\n",
      "TRAIN Batch Stats 200/518, Loss=0.64\n",
      "TRAIN Batch Stats 300/518, Loss=0.69\n",
      "TRAIN Batch Stats 400/518, Loss=0.70\n",
      "TRAIN Batch Stats 500/518, Loss=0.80\n",
      "TRAIN Batch Stats 517/518, Loss=0.70\n",
      "TRAIN Epoch 5 / 5, Mean Total Loss 0.7083964347839355\n",
      "VALID Batch Stats 0/65, Loss=0.62\n",
      "VALID Batch Stats 64/65, Loss=0.72\n",
      "VALID Epoch 5 / 5, Mean Total Loss 0.7339154481887817\n",
      "TRAIN Batch Stats 0/518, Loss=0.60\n",
      "TRAIN Batch Stats 100/518, Loss=0.69\n",
      "TRAIN Batch Stats 200/518, Loss=0.83\n",
      "TRAIN Batch Stats 300/518, Loss=0.71\n",
      "TRAIN Batch Stats 400/518, Loss=0.69\n",
      "TRAIN Batch Stats 500/518, Loss=0.74\n",
      "TRAIN Batch Stats 517/518, Loss=0.77\n",
      "TRAIN Epoch 5 / 5, Mean Total Loss 0.7089200019836426\n",
      "VALID Batch Stats 0/65, Loss=0.62\n",
      "VALID Batch Stats 64/65, Loss=0.74\n",
      "VALID Epoch 5 / 5, Mean Total Loss 0.7414869070053101\n"
     ]
    }
   ],
   "source": [
    "step = 0\n",
    "\n",
    "tensor = torch.cuda.FloatTensor if torch.cuda.is_available() else torch.Tensor\n",
    "\n",
    "for epoch in range(EPOCHS):\n",
    "\n",
    "    for d in datasets:\n",
    "        for split in splits:\n",
    "            data_loader = DataLoader( dataset=datasets[split], batch_size=BATCH_SIZE, shuffle = (split == \"train\") )\n",
    "\n",
    "            loss_tracker = defaultdict(tensor)\n",
    "\n",
    "            # Enable/Disable Dropout\n",
    "            if split == \"train\":\n",
    "                model.train()\n",
    "            else:\n",
    "                model.eval()\n",
    "                target_tracker = []\n",
    "                pred_tracker = []\n",
    "\n",
    "            for iteration, batch in enumerate(data_loader):\n",
    "\n",
    "                for k, v in batch.items():\n",
    "                    batch[k] = v.to(device)\n",
    "\n",
    "                # Forward pass\n",
    "                logits, pred_probs,_ = model(batch)\n",
    "\n",
    "                # loss calculation\n",
    "                loss = loss_criterion(logits, batch[\"fit\"])   # batch['fit'] are the true labels\n",
    "\n",
    "                # backward + optimization\n",
    "                if split == \"train\":\n",
    "                    optimizer.zero_grad()\n",
    "                    loss.backward()\n",
    "                    optimizer.step()\n",
    "                    step += 1\n",
    "\n",
    "                # bookkeepeing\n",
    "                loss_tracker[\"Total Loss\"] = torch.cat((loss_tracker[\"Total Loss\"], loss.view(1)))\n",
    "\n",
    "                if iteration % 100 == 0 or iteration + 1 == len(data_loader):\n",
    "                    print(f\"{split.upper()} Batch Stats {iteration}/{len(data_loader)}, Loss={loss.item() :.2f}\")\n",
    "\n",
    "                if split == \"valid\":\n",
    "                    target_tracker.append(batch[\"fit\"].cpu().numpy())\n",
    "                    pred_tracker.append(pred_probs.cpu().data.numpy())\n",
    "\n",
    "            print( f\"{split.upper()} Epoch {epoch + 1} / {EPOCHS}, Mean Total Loss {torch.mean(loss_tracker['Total Loss'])}\")\n",
    "\n"
   ]
  },
  {
   "cell_type": "code",
   "execution_count": 18,
   "metadata": {
    "colab": {
     "base_uri": "https://localhost:8080/"
    },
    "id": "lfZJOYqG96Rd",
    "outputId": "5932e070-1ed1-466b-a1a5-b7274e2386a7"
   },
   "outputs": [
    {
     "name": "stdout",
     "output_type": "stream",
     "text": [
      "Preparing test data ...\n",
      "Evaluating model on test data ...\n",
      "--------------------------------------------------\n",
      "Metrics:\n",
      " Precision = 0.46923410908676155\n",
      " Recall = 0.6850066489361702\n",
      " F1-score = 0.5569522344413451\n",
      " Accuracy = 0.6850066489361702\n",
      " AUC = 0.5360193024929826\n",
      " \n",
      "--------------------------------------------------\n"
     ]
    },
    {
     "name": "stderr",
     "output_type": "stream",
     "text": [
      "D:\\Anaconda\\envs\\pytorch_DL\\lib\\site-packages\\sklearn\\metrics\\_classification.py:1471: UndefinedMetricWarning: Precision is ill-defined and being set to 0.0 in labels with no predicted samples. Use `zero_division` parameter to control this behavior.\n",
      "  _warn_prf(average, modifier, msg_start, len(result))\n"
     ]
    }
   ],
   "source": [
    "target_tracker = []\n",
    "pred_tracker = []\n",
    "embeds2=[]\n",
    "\n",
    "y2=[]\n",
    "for d in datasets['train']:\n",
    "    y2.append(int(d['fit']))\n",
    "\n",
    "print(\"Preparing test data ...\")\n",
    "\n",
    "data_loader = DataLoader(dataset = datasets['train'], batch_size = BATCH_SIZE, shuffle=False)\n",
    "\n",
    "print(\"Evaluating model on test data ...\")\n",
    "model.eval()\n",
    "with torch.no_grad():\n",
    "\n",
    "    for iteration, batch in enumerate(data_loader):\n",
    "        \n",
    "        for k, v in batch.items():\n",
    "            batch[k] = v.to(device)\n",
    "\n",
    "        # Forward pass\n",
    "        _, pred_probs,embeddings = model(batch)\n",
    "        embeds2.append(embeddings.cpu())\n",
    "        \n",
    "        target_tracker.append(batch[\"fit\"].cpu().numpy())\n",
    "        pred_tracker.append(pred_probs.cpu().data.numpy())\n",
    "\n",
    "target_tracker = np.stack(target_tracker[:-1]).reshape(-1)\n",
    "pred_tracker = np.stack(pred_tracker[:-1], axis=0).reshape(-1, NUM_TARGETS)\n",
    "precision, recall, f1_score, accuracy, auc = compute_metrics(target_tracker, pred_tracker, averaging = \"weighted\")\n",
    "\n",
    "print(\"-\" * 50)\n",
    "print(f\"Metrics:\\n Precision = {precision}\\n Recall = {recall}\\n F1-score = {f1_score}\\n Accuracy = {accuracy}\\n AUC = {auc}\\n \")\n",
    "print(\"-\" * 50)"
   ]
  },
  {
   "cell_type": "code",
   "execution_count": 19,
   "metadata": {},
   "outputs": [],
   "source": [
    "\n",
    "y2=[1 if d==1 else 0 for d in y2]"
   ]
  },
  {
   "cell_type": "code",
   "execution_count": 20,
   "metadata": {},
   "outputs": [],
   "source": [
    "\n",
    "d2=[]\n",
    "\n",
    "for e in embeds2:\n",
    "    for ee in e.tolist():\n",
    "        d2.append(ee)"
   ]
  },
  {
   "cell_type": "code",
   "execution_count": 33,
   "metadata": {},
   "outputs": [
    {
     "data": {
      "image/png": "[encoded data removed]",
      "text/plain": [
       "<Figure size 640x480 with 1 Axes>"
      ]
     },
     "metadata": {},
     "output_type": "display_data"
    }
   ],
   "source": [
    "tsne_visualization(d2[9000:9500],y2[9000:9500],\"model2_ds1\")"
   ]
  },
  {
   "cell_type": "code",
   "execution_count": null,
   "metadata": {},
   "outputs": [],
   "source": []
  },
  {
   "cell_type": "code",
   "execution_count": null,
   "metadata": {},
   "outputs": [],
   "source": [
    "len(embeds1[1].tolist()[0])"
   ]
  },
  {
   "cell_type": "code",
   "execution_count": null,
   "metadata": {},
   "outputs": [],
   "source": []
  },
  {
   "cell_type": "code",
   "execution_count": null,
   "metadata": {},
   "outputs": [],
   "source": []
  }
 ],
 "metadata": {
  "accelerator": "GPU",
  "colab": {
   "provenance": []
  },
  "gpuClass": "standard",
  "kernelspec": {
   "display_name": "Python 3 (ipykernel)",
   "language": "python",
   "name": "python3"
  },
  "language_info": {
   "codemirror_mode": {
    "name": "ipython",
    "version": 3
   },
   "file_extension": ".py",
   "mimetype": "text/x-python",
   "name": "python",
   "nbconvert_exporter": "python",
   "pygments_lexer": "ipython3",
   "version": "3.9.18"
  },
  "vscode": {
   "interpreter": {
    "hash": "c1e5d2acd1631045f09d34790d51dde8c5f13a0de3f2ba4add1e385dbc0b204e"
   }
  }
 },
 "nbformat": 4,
 "nbformat_minor": 4
}
